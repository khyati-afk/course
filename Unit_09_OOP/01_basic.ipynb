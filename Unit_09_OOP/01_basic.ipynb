{
 "cells": [
  {
   "cell_type": "code",
   "execution_count": 22,
   "id": "427a67cd",
   "metadata": {},
   "outputs": [
    {
     "name": "stdout",
     "output_type": "stream",
     "text": [
      "18:1858\n",
      "00:58\n"
     ]
    }
   ],
   "source": [
    "class Time:\n",
    "    def __init__(self, hour, minute):\n",
    "        self.hour = hour\n",
    "        self.minute = minute\n",
    "    \n",
    "    def __str__(self):\n",
    "        return f\"{self.hour:02}:{self.minute:02}\"\n",
    "    \n",
    "    def is_valid(self):\n",
    "        # intermediate variables\n",
    "        hour_is_valid = (0 <= self.hour and self.hour < 24)\n",
    "        minute_is_valid = (0 <= self.minute and self.minute < 60)\n",
    "        return  hour_is_valid and minute_is_valid\n",
    "    \n",
    "    def wrap_around(self):\n",
    "        self.hour += (self.minute // 60)\n",
    "        self.minute %= 60\n",
    "        self.hour %= 24\n",
    "    \n",
    "    def is_AM(self):\n",
    "        return self.is_valid() and self.hour < 12\n",
    "\n",
    "now = Time(18, 1858)\n",
    "print(now)\n",
    "if(not now.is_valid()):\n",
    "    now.wrap_around()\n",
    "\n",
    "print(now)"
   ]
  },
  {
   "cell_type": "code",
   "execution_count": null,
   "id": "9cc33e46",
   "metadata": {},
   "outputs": [],
   "source": [
    "class Date:\n",
    "    pass"
   ]
  }
 ],
 "metadata": {
  "kernelspec": {
   "display_name": "Python 3",
   "language": "python",
   "name": "python3"
  },
  "language_info": {
   "codemirror_mode": {
    "name": "ipython",
    "version": 3
   },
   "file_extension": ".py",
   "mimetype": "text/x-python",
   "name": "python",
   "nbconvert_exporter": "python",
   "pygments_lexer": "ipython3",
   "version": "3.13.2"
  }
 },
 "nbformat": 4,
 "nbformat_minor": 5
}
