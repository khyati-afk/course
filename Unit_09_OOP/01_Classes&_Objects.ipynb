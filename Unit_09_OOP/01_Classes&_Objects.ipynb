{
 "cells": [
  {
   "cell_type": "markdown",
   "id": "03ac75d7",
   "metadata": {},
   "source": [
    "---\n",
    "**Object Oriented Programming (O.O.P.)**\n",
    "- OOP is a programming paradigm that organizes code around objects rather than functions or procedures.\n",
    "- The core of OOP are _classes_ and _objects_.\n",
    "\n",
    "**Classes**\n",
    "- Think of classes as user-defined data types.\n",
    "- When you define a class, you essentially define how this new data type is going to be like\n",
    "- Mainly you define two things:\n",
    "    - what kind of data is it going to store.\n",
    "    - what kind of operations is it going to support.\n",
    "\n",
    "**Objects**\n",
    "- Think of objects as variables of the newly defined data type.\n",
    "- When you initialize an object, you have created a variable that is going to store data and support operations as defined in the corresponding class.\n",
    "- The data that an object stores are called its _attributes_.\n",
    "- The operations that an object supports are called its _methods_."
   ]
  },
  {
   "cell_type": "code",
   "execution_count": 1,
   "id": "47a70817",
   "metadata": {},
   "outputs": [
    {
     "name": "stdout",
     "output_type": "stream",
     "text": [
      "12:30\n"
     ]
    }
   ],
   "source": [
    "# Lets create a class to store Time as an object\n",
    "\n",
    "class Time:\n",
    "    def __init__(self, hour, minute):   # constructor: special function that is called when an object is created\n",
    "        self.hour = hour                # self is a reference to the current object\n",
    "        self.minute = minute            # hour and minute are instance variables\n",
    "                                        # instance variables are variables that belongs to an object\n",
    "\n",
    "    def is_valid(self):                 # instance method - a function that belongs to an object\n",
    "        hour_is_valid = (0 <= self.hour and self.hour < 24)         # here we are referring to instance variables\n",
    "        minute_is_valid = (0 <= self.minute and self.minute < 60)   # to check if hour and minute are valid\n",
    "        return  (hour_is_valid and minute_is_valid)\n",
    "    \n",
    "    def show(self):                     # this method is used to print the time\n",
    "        if(self.is_valid()):            # here we are referring to instance methods\n",
    "            print(f\"{self.hour:02}:{self.minute:02}\")\n",
    "        else:                           # this will be executed if the time is invalid\n",
    "            print(\"Invalid Time\")\n",
    "\n",
    "# main starts here\n",
    "time1 = Time(12, 30)                    # creating an object of Time class\n",
    "time1.show()                            # calling the show method for the object `time1`"
   ]
  },
  {
   "cell_type": "markdown",
   "id": "9325504e",
   "metadata": {},
   "source": [
    "---\n",
    "**Interaction of of objects with python features**\n",
    "- One of the first interactions that you may of think of is to print an object using `print()` function.\n",
    "- If try to print an object using print function you won't see anything meaningful.\n",
    "- To print it properly, you need to define the `__str__` method.\n",
    "- The `__str__` method is a special dunder method (just like __init__ method).\n",
    "- These methods are meant to serve unique purposes. More about them later."
   ]
  },
  {
   "cell_type": "code",
   "execution_count": 2,
   "id": "acabf7c4",
   "metadata": {},
   "outputs": [
    {
     "name": "stdout",
     "output_type": "stream",
     "text": [
      "printing without __str__ : <__main__.withoutStr object at 0x000001D953A7FB60>\n",
      "printing with __str__    : value = 10\n"
     ]
    }
   ],
   "source": [
    "class withoutStr:               # class without `__str__` method\n",
    "    def __init__(self, val):\n",
    "        self.val = val\n",
    "    \n",
    "class withStr:                  # class with `__str__` method\n",
    "    def __init__(self, val):\n",
    "        self.val = val\n",
    "    def __str__(self):\n",
    "        return f\"value = {self.val}\"    # you can format it the way you want\n",
    "\n",
    "# main starts here\n",
    "object_1 = withoutStr(10)\n",
    "print(f\"printing without __str__ : {object_1}\")\n",
    "\n",
    "object_2 = withStr(10)\n",
    "print(f\"printing with __str__    : {object_2}\")"
   ]
  },
  {
   "cell_type": "markdown",
   "id": "bf3daacc",
   "metadata": {},
   "source": [
    "---\n",
    "**Interaction between classes**\n",
    "- One reason to use OOP is to mimic real-life objects using programming.\n",
    "- After creating objects, the next thing we need to do is to define how will these objects interact with each other.\n",
    "- The objects may interact with other objects of the same class as well as objects of different classes.\n",
    "- To define these interactions we have to define some methods."
   ]
  },
  {
   "cell_type": "code",
   "execution_count": 3,
   "id": "39bc5e7f",
   "metadata": {},
   "outputs": [
    {
     "name": "stdout",
     "output_type": "stream",
     "text": [
      "initialTime = 08:30\n",
      "finalTime   = 06:15\n",
      "period      = 02 hours and 15 minutes\n",
      "\n",
      "currTime = 14:30\n",
      "duration = 22 hours and 45 minutes\n",
      "nextTime = 13:15\n"
     ]
    }
   ],
   "source": [
    "# Class to define a period of time\n",
    "class TimePeriod:\n",
    "    def __init__(self, hour, minute):\n",
    "        self.hour = hour\n",
    "        self.minute = minute\n",
    "    def __str__(self):\n",
    "        return f\"{self.hour:02} hours and {self.minute:02} minutes\"\n",
    "\n",
    "# Class to define a point in time\n",
    "class Time:\n",
    "    def __init__(self, hour, minute):\n",
    "        self.hour = hour\n",
    "        self.minute = minute\n",
    "    def __str__(self):\n",
    "        return f\"{self.hour:02}:{self.minute:02}\"\n",
    "\n",
    "    # this method checks if the current time comes before some other given time\n",
    "    def isBefore(self, other):\n",
    "        if(self.hour < other.hour):\n",
    "            return True\n",
    "        if(self.hour == other.hour and self.minute < other.minute):\n",
    "            return True\n",
    "        else:\n",
    "            return False\n",
    "    \n",
    "    # this method returns the absolute difference between two times as a time period\n",
    "    def diff(self, other):\n",
    "        '''\n",
    "        - self  : Time\n",
    "        - other : Time\n",
    "        - return: TimePeriod\n",
    "        - (Time1 - Time2 => TimePeriod) \n",
    "        '''\n",
    "        if(self.isBefore(other)):\n",
    "            return other.diff(self)\n",
    "        \n",
    "        hour_period = self.hour - other.hour\n",
    "        minute_period = self.minute - other.minute\n",
    "        \n",
    "        if(minute_period < 0):\n",
    "            hour_period -= 1\n",
    "            minute_period += 60\n",
    "        return TimePeriod(hour_period, minute_period)\n",
    "    \n",
    "    # this function returns the new time after a time period from the current time\n",
    "    def after(self, period):\n",
    "        '''\n",
    "        - self  : Time\n",
    "        - period: TimePeriod\n",
    "        - return: Time\n",
    "        - (Time1 + TimePeriod => Time2) \n",
    "        '''\n",
    "        m2 = self.minute + period.minute\n",
    "        h2 = self.hour + period.hour\n",
    "        if(m2 >= 60):\n",
    "            m2 -= 60\n",
    "            h2 += 1\n",
    "        if(h2 >= 24):\n",
    "            h2 -= 24\n",
    "        return Time(h2, m2)\n",
    "\n",
    "# main starts here \n",
    "initialTime = Time(8, 30)\n",
    "finalTime = Time(6, 15)\n",
    "period = finalTime.diff(initialTime)\n",
    "print(f\"initialTime = {initialTime}\")\n",
    "print(f\"finalTime   = {finalTime}\")\n",
    "print(f\"period      = {period}\")\n",
    "\n",
    "print()\n",
    "currTime = Time(14, 30)\n",
    "duration = TimePeriod(22, 45)\n",
    "nextTime = currTime.after(duration)\n",
    "print(f\"currTime = {currTime}\")\n",
    "print(f\"duration = {duration}\")\n",
    "print(f\"nextTime = {nextTime}\")"
   ]
  }
 ],
 "metadata": {
  "kernelspec": {
   "display_name": "Python 3",
   "language": "python",
   "name": "python3"
  },
  "language_info": {
   "codemirror_mode": {
    "name": "ipython",
    "version": 3
   },
   "file_extension": ".py",
   "mimetype": "text/x-python",
   "name": "python",
   "nbconvert_exporter": "python",
   "pygments_lexer": "ipython3",
   "version": "3.13.2"
  }
 },
 "nbformat": 4,
 "nbformat_minor": 5
}
