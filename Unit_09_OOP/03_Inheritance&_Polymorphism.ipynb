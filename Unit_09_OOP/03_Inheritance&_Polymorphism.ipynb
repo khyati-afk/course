{
 "cells": [
  {
   "cell_type": "markdown",
   "id": "e7ad5ce4",
   "metadata": {},
   "source": [
    "---\n",
    "**Inheritance**\n",
    "\n",
    "The ability of a class to inherit the members of an existing class."
   ]
  },
  {
   "cell_type": "code",
   "execution_count": 1,
   "id": "689cdc37",
   "metadata": {},
   "outputs": [
    {
     "name": "stdout",
     "output_type": "stream",
     "text": [
      "Animal.count = 0\n",
      "Dog.count    = 0\n",
      "Cat.count    = 0\n",
      "\n",
      "Animal.count = 1\n",
      "Dog.count    = 1\n",
      "Cat.count    = 1\n",
      "\n",
      "Animal.count = 2\n",
      "Dog.count    = 2\n",
      "Cat.count    = 2\n",
      "\n",
      "Animal.count = 2\n",
      "Dog.count    = 5\n",
      "Cat.count    = 2\n",
      "\n",
      "Animal.count = 3\n",
      "Dog.count    = 5\n",
      "Cat.count    = 3\n",
      "\n",
      "Animal.count = 4\n",
      "Dog.count    = 5\n",
      "Cat.count    = 4\n",
      "\n"
     ]
    }
   ],
   "source": [
    "class Animal:\n",
    "    count = 0\n",
    "    def __init__(self, name):\n",
    "        self.color = \"Black\"\n",
    "        self.name = name\n",
    "        Animal.count += 1\n",
    "\n",
    "class Dog(Animal):\n",
    "    def __init__(self, name):\n",
    "        super().__init__(name)\n",
    "\n",
    "class Cat(Animal):\n",
    "    def __init__(self, name):\n",
    "        super().__init__(name)\n",
    "\n",
    "# main starts here\n",
    "print(f\"{Animal.count = }\")\n",
    "print(f\"{Dog.count    = }\")\n",
    "print(f\"{Cat.count    = }\")\n",
    "print()\n",
    "\n",
    "shifu = Dog(\"Shifu\")\n",
    "print(f\"{Animal.count = }\")\n",
    "print(f\"{Dog.count    = }\")\n",
    "print(f\"{Cat.count    = }\")\n",
    "print()\n",
    "\n",
    "shishi = Cat(\"Shishi\")\n",
    "print(f\"{Animal.count = }\")\n",
    "print(f\"{Dog.count    = }\")\n",
    "print(f\"{Cat.count    = }\")\n",
    "print()\n",
    "\n",
    "Dog.count = 5               # attribute overriding\n",
    "print(f\"{Animal.count = }\")\n",
    "print(f\"{Dog.count    = }\")\n",
    "print(f\"{Cat.count    = }\")\n",
    "print()\n",
    "\n",
    "muko = Cat(\"Muko\")\n",
    "print(f\"{Animal.count = }\")\n",
    "print(f\"{Dog.count    = }\")\n",
    "print(f\"{Cat.count    = }\")\n",
    "print()\n",
    "\n",
    "beluga = Cat(\"beluga\")\n",
    "print(f\"{Animal.count = }\")\n",
    "print(f\"{Dog.count    = }\")\n",
    "print(f\"{Cat.count    = }\")\n",
    "print()"
   ]
  },
  {
   "cell_type": "markdown",
   "id": "0fa5ebde",
   "metadata": {},
   "source": [
    "---\n",
    "**Method overriding**\n",
    "\n",
    "The ability of a subclass to override the method definition of the superclass."
   ]
  },
  {
   "cell_type": "code",
   "execution_count": null,
   "id": "7584decd",
   "metadata": {},
   "outputs": [
    {
     "name": "stdout",
     "output_type": "stream",
     "text": [
      "Gu-gu\n",
      "White\n",
      "Gu-gu is chirping!!\n",
      "\n",
      "Ka-ka\n",
      "Black\n",
      "Ka-ka is kawing!!\n"
     ]
    }
   ],
   "source": [
    "class Bird:\n",
    "    def __init__(self, name, color):\n",
    "        self.name = name\n",
    "        self.color = color\n",
    "\n",
    "    def speak(self):\n",
    "        print(f\"{self.name} is chirping!!\")\n",
    "\n",
    "class Pigeon(Bird):\n",
    "    def __init__(self, name, color):\n",
    "        super().__init__(name, color)\n",
    "\n",
    "class Crow(Bird):\n",
    "    def __init__(self, name):\n",
    "        super().__init__(name, \"Black\")\n",
    "\n",
    "    def speak(self):    # method overriding\n",
    "        print(f\"{self.name} is kawing!!\")\n",
    "\n",
    "# main starts here\n",
    "gugu = Pigeon(\"Gu-gu\", \"White\")\n",
    "print(gugu.name)\n",
    "print(gugu.color)\n",
    "gugu.speak()\n",
    "\n",
    "print()\n",
    "kaka = Crow(\"Ka-ka\")\n",
    "print(kaka.name)\n",
    "print(kaka.color)\n",
    "kaka.speak()"
   ]
  },
  {
   "cell_type": "code",
   "execution_count": 3,
   "id": "66e237ff",
   "metadata": {},
   "outputs": [
    {
     "name": "stdout",
     "output_type": "stream",
     "text": [
      "Ku-ku\n",
      "Brown\n",
      "Ku-ku is singing melodiously!!\n",
      "\n",
      "Ka-ka\n",
      "Black\n",
      "Ka-ka is singing horrendously!!\n"
     ]
    }
   ],
   "source": [
    "class Bird:\n",
    "    def __init__(self, name, color):\n",
    "        self.color = color\n",
    "        self.name = name\n",
    "\n",
    "    def sing(self):\n",
    "        return f\"{self.name} is singing\"\n",
    "\n",
    "class Cuckoo(Bird):\n",
    "    def __init__(self, name):\n",
    "        super().__init__(name, \"Brown\")\n",
    "    \n",
    "    def sing(self):\n",
    "        return f\"{super().sing()} melodiously!!\"\n",
    "\n",
    "class Crow(Bird):\n",
    "    def __init__(self, name):\n",
    "        super().__init__(name, \"Black\")\n",
    "\n",
    "    def sing(self):\n",
    "        return f\"{super().sing()} horrendously!!\"\n",
    "\n",
    "# main starts here\n",
    "kuku = Cuckoo(\"Ku-ku\")\n",
    "print(kuku.name)\n",
    "print(kuku.color)\n",
    "print(kuku.sing())\n",
    "\n",
    "print()\n",
    "kaka = Crow(\"Ka-ka\")\n",
    "print(kaka.name)\n",
    "print(kaka.color)\n",
    "print(kaka.sing())"
   ]
  },
  {
   "cell_type": "markdown",
   "id": "2e3bb858",
   "metadata": {},
   "source": [
    "---\n",
    "**Types of Inheritance**\n",
    "- simple inheritance : A inherits from B\n",
    "- multiple inheritance : A inherits from both B and C\n",
    "- multilevel inheritance : A inherits from B, B inherits from C (chain structure)\n",
    "- hybrid/complex inheritance : Complex relationship between classes (Directed Acyclic Graph structure)"
   ]
  },
  {
   "cell_type": "code",
   "execution_count": null,
   "id": "0e69d5e6",
   "metadata": {},
   "outputs": [
    {
     "name": "stdout",
     "output_type": "stream",
     "text": [
      "init called for C.\n",
      "init called for B.\n",
      "init called for A.\n"
     ]
    }
   ],
   "source": [
    "class D:\n",
    "    def __init__(self):\n",
    "        print(\"init called for D.\")\n",
    "\n",
    "class C:\n",
    "    def __init__(self):\n",
    "        print(\"init called for C.\")\n",
    "\n",
    "class B(C, D):\n",
    "    def __init__(self):\n",
    "        super().__init__()  # calls init of C (not D) before doing init of B\n",
    "        print(\"init called for B.\")\n",
    "\n",
    "class A(B):\n",
    "    def __init__(self):\n",
    "        super().__init__()  # calls init of B before doing init of A\n",
    "        print(\"init called for A.\")\n",
    "\n",
    "# main starts here\n",
    "obj = A()"
   ]
  },
  {
   "cell_type": "markdown",
   "id": "78742455",
   "metadata": {},
   "source": [
    "---\n",
    "**Method Resolution Order**"
   ]
  },
  {
   "cell_type": "code",
   "execution_count": 5,
   "id": "f8c41e6a",
   "metadata": {},
   "outputs": [
    {
     "name": "stdout",
     "output_type": "stream",
     "text": [
      "hello\n",
      "C is the best\n"
     ]
    }
   ],
   "source": [
    "class F:\n",
    "    def __init__(self):\n",
    "        print(\"hello\")\n",
    "    \n",
    "    def whosTheBest(self):\n",
    "        print(\"F is the best\")\n",
    "\n",
    "class E:\n",
    "    def __init__(self):\n",
    "        print(\"hello\")\n",
    "    \n",
    "    def whosTheBest(self):\n",
    "        print(\"E is the best\")\n",
    "\n",
    "class D:\n",
    "    def __init__(self):\n",
    "        print(\"hello\")\n",
    "\n",
    "class C(E, F):\n",
    "    def __init__(self):\n",
    "        print(\"hello\")\n",
    "    \n",
    "    def whosTheBest(self):\n",
    "        print(\"C is the best\")\n",
    "\n",
    "class B(D):\n",
    "    def __init__(self):\n",
    "        print(\"hello\")\n",
    "\n",
    "class A(B, C):\n",
    "    def __init__(self):\n",
    "        print(\"hello\")\n",
    "\n",
    "\n",
    "# main starts here\n",
    "obj = A()\n",
    "obj.whosTheBest()"
   ]
  },
  {
   "cell_type": "markdown",
   "id": "11325907",
   "metadata": {},
   "source": [
    "---\n",
    "**Abstract Class**"
   ]
  },
  {
   "cell_type": "code",
   "execution_count": 6,
   "id": "349f655a",
   "metadata": {},
   "outputs": [
    {
     "name": "stdout",
     "output_type": "stream",
     "text": [
      "shifu.eyes = 2\n",
      "shifu.legs = 4\n",
      "shifu.tail = True\n",
      "woof woof\n",
      "eating bone\n",
      "\n",
      "alice.eyes = 2\n",
      "alice.legs = 2\n",
      "alice.tail = False\n",
      "\n"
     ]
    }
   ],
   "source": [
    "class Animal:\n",
    "    def __init__(self):\n",
    "        self.eyes = 2\n",
    "        self.legs = 4\n",
    "        self.tail = True\n",
    "\n",
    "    def cry(self):\n",
    "        pass\n",
    "    \n",
    "    def eat(self):\n",
    "        pass\n",
    "\n",
    "class Dog(Animal):\n",
    "    def __init__(self):\n",
    "        super().__init__()\n",
    "    def cry(self):\n",
    "        print(\"woof woof\")\n",
    "    def eat(self):\n",
    "        print(\"eating bone\")\n",
    "\n",
    "class Human(Animal):\n",
    "    def __init__(self):\n",
    "        super().__init__()\n",
    "        self.legs = 2\n",
    "        self.tail = False\n",
    "\n",
    "# main starts here\n",
    "shifu = Dog()\n",
    "print(f\"{shifu.eyes = }\")\n",
    "print(f\"{shifu.legs = }\")\n",
    "print(f\"{shifu.tail = }\")\n",
    "shifu.cry()\n",
    "shifu.eat()\n",
    "print()\n",
    "\n",
    "alice = Human()\n",
    "print(f\"{alice.eyes = }\")\n",
    "print(f\"{alice.legs = }\")\n",
    "print(f\"{alice.tail = }\")\n",
    "alice.cry()\n",
    "alice.eat()\n",
    "print()"
   ]
  },
  {
   "cell_type": "code",
   "execution_count": null,
   "id": "1359f74c",
   "metadata": {},
   "outputs": [
    {
     "name": "stdout",
     "output_type": "stream",
     "text": [
      "The animal said Woof\n",
      "Dog moving with 2 legs\n",
      "\n",
      "Hello, How are you?\n",
      "Human moving with 4 legs\n",
      "\n"
     ]
    }
   ],
   "source": [
    "from abc import ABC, abstractmethod\n",
    "\n",
    "class Animal(ABC):\n",
    "    def __init__(self, sound, legs, hasTail):\n",
    "        self.sound = sound\n",
    "        self.legs = legs # int\n",
    "        self.hasTail = hasTail # bool\n",
    "\n",
    "    def cry(self):  # may or may not be overridden in child classes\n",
    "        print(f\"The animal said {self.sound}\")\n",
    "\n",
    "    @abstractmethod\n",
    "    def move(self): # must be overridden in child classes\n",
    "        pass\n",
    "\n",
    "class Dog(Animal):\n",
    "    def __init__(self):\n",
    "        super().__init__(\"Woof\", 2, True)\n",
    "    def move(self):\n",
    "        print(f\"Dog moving with {self.legs} legs\")\n",
    "\n",
    "class Human(Animal):\n",
    "    def __init__(self):\n",
    "        super().__init__(\"Hello\", 4, False)\n",
    "    def move(self):\n",
    "        print(f\"Human moving with {self.legs} legs\")\n",
    "    def cry(self, message):\n",
    "        print(f\"{message}\")\n",
    "\n",
    "# main starts here\n",
    "shifu = Dog()\n",
    "shifu.cry()\n",
    "shifu.move()\n",
    "print()\n",
    "\n",
    "alice = Human()\n",
    "alice.cry(\"Hello, How are you?\")\n",
    "alice.move()\n",
    "print()"
   ]
  },
  {
   "cell_type": "markdown",
   "id": "f5783236",
   "metadata": {},
   "source": [
    "---\n",
    "Principles of OOP\n",
    "- Encapsulation : packing related data and their operations together\n",
    "- Inheritance   : avoiding rewriting of similar code\n",
    "- Abstraction   : implementation hiding \n",
    "- Polymorphism  : enabling same thing to work in different ways"
   ]
  }
 ],
 "metadata": {
  "kernelspec": {
   "display_name": "Python 3",
   "language": "python",
   "name": "python3"
  },
  "language_info": {
   "codemirror_mode": {
    "name": "ipython",
    "version": 3
   },
   "file_extension": ".py",
   "mimetype": "text/x-python",
   "name": "python",
   "nbconvert_exporter": "python",
   "pygments_lexer": "ipython3",
   "version": "3.13.2"
  }
 },
 "nbformat": 4,
 "nbformat_minor": 5
}
