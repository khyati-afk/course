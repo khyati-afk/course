{
 "cells": [
  {
   "cell_type": "markdown",
   "metadata": {},
   "source": [
    "### Opening & Closing a file stream"
   ]
  },
  {
   "cell_type": "code",
   "execution_count": null,
   "metadata": {},
   "outputs": [],
   "source": [
    "f = open(\"ourFile.txt\", \"w\")\n",
    "\n",
    "print(f)\n",
    "print(f.fileno()) ##\n",
    "print(f.name)\n",
    "print(f.mode)\n",
    "print(f.readable())\n",
    "print(f.closed)\n",
    "\n",
    "f.close()\n",
    "\n",
    "print(f.closed)"
   ]
  },
  {
   "cell_type": "markdown",
   "metadata": {},
   "source": [
    "### Methods for reading the content of a text file"
   ]
  },
  {
   "cell_type": "code",
   "execution_count": 12,
   "metadata": {},
   "outputs": [
    {
     "name": "stdout",
     "output_type": "stream",
     "text": [
      "we read -> []\n",
      "we read -> \n"
     ]
    }
   ],
   "source": [
    "f = open(\"ourFile.txt\")\n",
    "\n",
    "text = f.read() # reads the entire file and moves the fp to the EoF\n",
    "print(f\"we read -> [{text}]\")\n",
    "text = f.read() # reads the entire file\n",
    "print(f\"we read -> {text}\")\n",
    "\n",
    "f.close()"
   ]
  },
  {
   "cell_type": "code",
   "execution_count": 13,
   "metadata": {},
   "outputs": [
    {
     "name": "stdout",
     "output_type": "stream",
     "text": [
      "we read -> \n",
      "we read -> \n"
     ]
    }
   ],
   "source": [
    "f = open(\"ourFile.txt\")\n",
    "\n",
    "text = f.read(8) # reads next given no of chars, and updates the fp\n",
    "print(f\"we read -> {text}\")\n",
    "text = f.read(8)\n",
    "print(f\"we read -> {text}\")\n",
    "\n",
    "f.close()"
   ]
  },
  {
   "cell_type": "code",
   "execution_count": 14,
   "metadata": {},
   "outputs": [
    {
     "name": "stdout",
     "output_type": "stream",
     "text": [
      "we read -> \n",
      "we read -> \n"
     ]
    }
   ],
   "source": [
    "f = open(\"ourFile.txt\")\n",
    "\n",
    "text = f.readline() # reads next line till '\\n', and updates the fp\n",
    "print(f\"we read -> {text}\")\n",
    "text = f.readline()\n",
    "print(f\"we read -> {text}\")\n",
    "\n",
    "f.close()"
   ]
  },
  {
   "cell_type": "code",
   "execution_count": 15,
   "metadata": {},
   "outputs": [
    {
     "name": "stdout",
     "output_type": "stream",
     "text": [
      "we read -> \n",
      "we read -> \n"
     ]
    }
   ],
   "source": [
    "f = open(\"ourFile.txt\")\n",
    "\n",
    "text = f.readline(8) # reads next given no of chars but doesn't exceed '\\n', and updates the fp\n",
    "print(f\"we read -> {text}\")\n",
    "text = f.readline(8)\n",
    "print(f\"we read -> {text}\")\n",
    "\n",
    "f.close()"
   ]
  },
  {
   "cell_type": "code",
   "execution_count": 16,
   "metadata": {},
   "outputs": [
    {
     "name": "stdout",
     "output_type": "stream",
     "text": [
      "we read -> []\n",
      "we read -> []\n"
     ]
    }
   ],
   "source": [
    "f = open(\"ourFile.txt\")\n",
    "\n",
    "text = f.readlines() # reads all the lines and returns us a list, and updates the fp\n",
    "print(f\"we read -> {text}\")\n",
    "text = f.readlines()\n",
    "print(f\"we read -> {text}\")\n",
    "\n",
    "f.close()"
   ]
  },
  {
   "cell_type": "code",
   "execution_count": 17,
   "metadata": {},
   "outputs": [],
   "source": [
    "f = open(\"ourFile.txt\")\n",
    "\n",
    "# print(len(f)\n",
    "for line in f:\n",
    "  print(f\"{line}\\b\")\n",
    "\n",
    "f.close()"
   ]
  },
  {
   "cell_type": "markdown",
   "metadata": {},
   "source": [
    "### Methods for writing content on a text file"
   ]
  },
  {
   "cell_type": "code",
   "execution_count": 19,
   "metadata": {},
   "outputs": [],
   "source": [
    "f = open(\"ourFile.txt\", \"w\")\n",
    "\n",
    "f.write(\"A\\nB\\nC\\nD\")\n",
    "\n",
    "f.close()"
   ]
  },
  {
   "cell_type": "code",
   "execution_count": 20,
   "metadata": {},
   "outputs": [],
   "source": [
    "f = open(\"ourFile.txt\", \"w\")\n",
    "\n",
    "f.writelines([\"W\\n\", \"X\\n\", \"Y\\n\", \"Z\"])\n",
    "\n",
    "f.close()"
   ]
  },
  {
   "cell_type": "markdown",
   "metadata": {},
   "source": [
    "### Homework"
   ]
  },
  {
   "cell_type": "markdown",
   "metadata": {},
   "source": [
    "Write the following functions:\n",
    "\n",
    "1. Find if a `given_word` exists in a `given_text_file` or not.\n",
    "2. Find the frequency of a `given_word` in a `given_text_file`.\n",
    "3. Find & Replace all the occurence of a `given_word` with a `new_word` in a `given_text_file`."
   ]
  },
  {
   "cell_type": "code",
   "execution_count": null,
   "metadata": {},
   "outputs": [],
   "source": [
    "def find(word, filePath):\n",
    "    pass"
   ]
  },
  {
   "cell_type": "code",
   "execution_count": null,
   "metadata": {},
   "outputs": [],
   "source": [
    "def count(word, filePath):\n",
    "    pass"
   ]
  },
  {
   "cell_type": "code",
   "execution_count": null,
   "metadata": {},
   "outputs": [],
   "source": [
    "def find_n_replace(old_word, new_word, filePath):\n",
    "    pass"
   ]
  }
 ],
 "metadata": {
  "kernelspec": {
   "display_name": "Python 3",
   "language": "python",
   "name": "python3"
  },
  "language_info": {
   "codemirror_mode": {
    "name": "ipython",
    "version": 3
   },
   "file_extension": ".py",
   "mimetype": "text/x-python",
   "name": "python",
   "nbconvert_exporter": "python",
   "pygments_lexer": "ipython3",
   "version": "3.13.2"
  }
 },
 "nbformat": 4,
 "nbformat_minor": 2
}
