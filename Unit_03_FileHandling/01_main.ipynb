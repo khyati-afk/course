{
 "cells": [
  {
   "cell_type": "markdown",
   "metadata": {},
   "source": [
    "## Class 1"
   ]
  },
  {
   "cell_type": "markdown",
   "metadata": {},
   "source": [
    "### Opening & Closing a file stream"
   ]
  },
  {
   "cell_type": "code",
   "execution_count": 22,
   "metadata": {},
   "outputs": [
    {
     "name": "stdout",
     "output_type": "stream",
     "text": [
      "<_io.TextIOWrapper name='readFile.txt' mode='r' encoding='cp1252'>\n",
      "readFile.txt\n",
      "r\n",
      "True\n",
      "False\n",
      "True\n"
     ]
    }
   ],
   "source": [
    "# open(filePath, mode) is the syntax to open a file in a given mode\n",
    "f = open(\"readFile.txt\", \"r\")\n",
    "\n",
    "# then you can do stuff with the file\n",
    "print(f)\n",
    "print(f.name)\n",
    "print(f.mode)\n",
    "print(f.readable())\n",
    "print(f.closed)\n",
    "\n",
    "# file.close() is the syntax to close a file\n",
    "f.close()\n",
    "\n",
    "# To check if a file is closed\n",
    "print(f.closed)"
   ]
  },
  {
   "cell_type": "code",
   "execution_count": null,
   "metadata": {},
   "outputs": [
    {
     "name": "stdout",
     "output_type": "stream",
     "text": [
      "<_io.TextIOWrapper name='ourFile.txt' mode='r' encoding='cp1252'>\n",
      "3\n",
      "ourFile.txt\n",
      "r\n",
      "True\n",
      "False\n"
     ]
    }
   ],
   "source": [
    "# using `with` keyword closes the file automatically\n",
    "with open(\"readFile.txt\", \"r\") as f:\n",
    "    # the file is opened throughout this block\n",
    "    print(f)\n",
    "    print(f.fileno()) ##\n",
    "    print(f.name)\n",
    "    print(f.mode)\n",
    "    print(f.readable())\n",
    "    print(f.closed)\n",
    "    # as soon as the block ends, the file is closed automatically"
   ]
  },
  {
   "cell_type": "markdown",
   "metadata": {},
   "source": [
    "### Methods for reading the content of a text file"
   ]
  },
  {
   "cell_type": "code",
   "execution_count": null,
   "metadata": {},
   "outputs": [
    {
     "name": "stdout",
     "output_type": "stream",
     "text": [
      "we read -> [Lorem ipsum dolor sit amet, consectetur adipiscing elit.\n",
      "Phasellus eu velit quis nisl laoreet pharetra.\n",
      "Aenean et magna eu nibh tristique mollis.\n",
      "]\n",
      "we read -> []\n"
     ]
    }
   ],
   "source": [
    "# fPointer = open(\"readFile.txt\", \"rb\") # mode = read binary\n",
    "# fPointer = open(\"readFile.txt\", \"r\")  # mode = read\n",
    "fPointer = open(\"readFile.txt\")         # default mode is read, if not mentioned\n",
    "\n",
    "text = fPointer.read()                 # reads the entire file and moves the fPointer to the EoF\n",
    "print(f\"we read -> [{text}]\")\n",
    "text = fPointer.read()                 # reads the entire file\n",
    "print(f\"we read -> [{text}]\")\n",
    "\n",
    "f.close()"
   ]
  },
  {
   "cell_type": "code",
   "execution_count": null,
   "metadata": {},
   "outputs": [
    {
     "name": "stdout",
     "output_type": "stream",
     "text": [
      "we read -> [Lorem ip]\n",
      "we read -> [sum dolo]\n"
     ]
    }
   ],
   "source": [
    "fPointer = open(\"readFile.txt\")\n",
    "\n",
    "text = fPointer.read(8)                 # reads next 8 chars, and updates the fPointer\n",
    "print(f\"we read -> [{text}]\")\n",
    "text = fPointer.read(8)                 # reads next 6 chars, and updates the fPointer\n",
    "print(f\"we read -> [{text}]\")\n",
    "\n",
    "f.close()"
   ]
  },
  {
   "cell_type": "code",
   "execution_count": null,
   "metadata": {},
   "outputs": [
    {
     "name": "stdout",
     "output_type": "stream",
     "text": [
      "we read -> [Lorem ipsum dolor sit amet, consectetur adipiscing elit.\n",
      "]\n",
      "we read -> [Phasellus eu velit quis nisl laoreet pharetra.\n",
      "]\n"
     ]
    }
   ],
   "source": [
    "fPointer = open(\"readFile.txt\")\n",
    "\n",
    "text = fPointer.readline() # reads next line till '\\n' or EoF, and updates the fPointer\n",
    "print(f\"we read -> [{text}]\")\n",
    "text = fPointer.readline()\n",
    "print(f\"we read -> [{text}]\")\n",
    "\n",
    "fPointer.close()"
   ]
  },
  {
   "cell_type": "code",
   "execution_count": null,
   "metadata": {},
   "outputs": [
    {
     "name": "stdout",
     "output_type": "stream",
     "text": [
      "we read -> [Lorem ip]\n",
      "we read -> [sum dolo]\n"
     ]
    }
   ],
   "source": [
    "fPointer = open(\"readFile.txt\")\n",
    "\n",
    "text = fPointer.readline(8) # reads next given no of chars but doesn't exceed '\\n', and updates the fp\n",
    "print(f\"we read -> [{text}]\")\n",
    "text = fPointer.readline(8)\n",
    "print(f\"we read -> [{text}]\")\n",
    "\n",
    "fPointer.close()"
   ]
  },
  {
   "cell_type": "code",
   "execution_count": null,
   "metadata": {},
   "outputs": [
    {
     "name": "stdout",
     "output_type": "stream",
     "text": [
      "we read -> [['Lorem ipsum dolor sit amet, consectetur adipiscing elit.\\n', 'Phasellus eu velit quis nisl laoreet pharetra.\\n', 'Aenean et magna eu nibh tristique mollis.\\n']]\n",
      "we read -> [[]]\n"
     ]
    }
   ],
   "source": [
    "fPointer = open(\"readFile.txt\")\n",
    "\n",
    "text = fPointer.readlines() # reads all the lines and returns us a list, and updates the fp\n",
    "print(f\"we read -> [{text}]\")\n",
    "text = fPointer.readlines()\n",
    "print(f\"we read -> [{text}]\")\n",
    "\n",
    "fPointer.close()"
   ]
  },
  {
   "cell_type": "code",
   "execution_count": null,
   "metadata": {},
   "outputs": [
    {
     "name": "stdout",
     "output_type": "stream",
     "text": [
      "Lorem ipsum dolor sit amet, consectetur adipiscing elit.\n",
      "\b\n",
      "Phasellus eu velit quis nisl laoreet pharetra.\n",
      "\b\n",
      "Aenean et magna eu nibh tristique mollis.\n",
      "\b\n"
     ]
    }
   ],
   "source": [
    "fPointer = open(\"readFile.txt\")\n",
    "\n",
    "# running a loop and reading the file line by line to save memory\n",
    "for line in fPointer:\n",
    "  print(f\"{line}\\b\")\n",
    "\n",
    "fPointer.close()"
   ]
  },
  {
   "cell_type": "markdown",
   "metadata": {},
   "source": [
    "### Methods for writing content on a text file"
   ]
  },
  {
   "cell_type": "code",
   "execution_count": null,
   "metadata": {},
   "outputs": [],
   "source": [
    "fPointer = open(\"writeFile.txt\", \"w\") # open file in the write mode\n",
    "\n",
    "data = \"A for Apple\\nB for ball\\nC for cat\\n\"\n",
    "fPointer.write(data) # write the string data into the file and updates the fPointer\n",
    "\n",
    "fPointer.close()"
   ]
  },
  {
   "cell_type": "code",
   "execution_count": 25,
   "metadata": {},
   "outputs": [],
   "source": [
    "f = open(\"writeFile.txt\", \"w\")\n",
    "\n",
    "dataLines = [\"A for Apple\\n\", \"B for ball\\n\", \"C for cat\\n\"]\n",
    "f.writelines(dataLines) # writes the list of strings as lines in the file\n",
    "\n",
    "f.close()"
   ]
  },
  {
   "cell_type": "markdown",
   "metadata": {},
   "source": [
    "### Homework"
   ]
  },
  {
   "cell_type": "markdown",
   "metadata": {},
   "source": [
    "Write the following functions:\n",
    "\n",
    "1. Find if a `given_word` exists in a `given_text_file` or not.\n",
    "2. Find the frequency of a `given_word` in a `given_text_file`.\n",
    "3. Find & Replace all the occurence of a `given_word` with a `new_word` in a `given_text_file`."
   ]
  },
  {
   "cell_type": "markdown",
   "metadata": {},
   "source": [
    "## Class 2"
   ]
  },
  {
   "cell_type": "markdown",
   "metadata": {},
   "source": [
    "### `.tell()` & `.seek()`"
   ]
  },
  {
   "cell_type": "code",
   "execution_count": 29,
   "metadata": {},
   "outputs": [
    {
     "name": "stdout",
     "output_type": "stream",
     "text": [
      "Initial position: 0\n",
      "\n",
      "After reading 5 chars: 5\n",
      "Data read: b'Lorem'\n",
      "\n",
      "After seek(0): 0\n",
      "\n",
      "After reading 10 chars: 10\n",
      "Data read: b'Lorem ipsu'\n",
      "\n",
      "After seek(-4, 1): 6\n",
      "\n",
      "After reading 5 chars: 11\n",
      "Data read: b'ipsum'\n",
      "\n",
      "After seek(-1, 2): 148\n",
      "\n",
      "After seek(-5, 2): 144\n"
     ]
    }
   ],
   "source": [
    "with open(\"readFile.txt\", \"rb\") as f:\n",
    "    # Initial position\n",
    "    print(\"Initial position:\", f.tell())  # Should be 0 (beginning)\n",
    "\n",
    "    # Read first 5 characters\n",
    "    data = f.read(5)\n",
    "    print(\"\\nAfter reading 5 chars:\", f.tell())  # Should be 5\n",
    "    print(\"Data read:\", data)\n",
    "\n",
    "    # Move the file pointer back to the beginning\n",
    "    f.seek(0)\n",
    "    print(\"\\nAfter seek(0):\", f.tell())\n",
    "\n",
    "    # Read first 10 characters\n",
    "    data = f.read(10)\n",
    "    print(\"\\nAfter reading 10 chars:\", f.tell())  # Should be 10\n",
    "    print(\"Data read:\", data)\n",
    "\n",
    "    # Move 4 characters back from the current position\n",
    "    f.seek(-4, 1)\n",
    "    print(\"\\nAfter seek(-4, 1):\", f.tell())\n",
    "\n",
    "    # Read next 5 characters\n",
    "    data = f.read(5)\n",
    "    print(\"\\nAfter reading 5 chars:\", f.tell())  # Should be 5\n",
    "    print(\"Data read:\", data)\n",
    "\n",
    "    # Move to the last character\n",
    "    f.seek(-1, 2)  # offset = -1, whence = 2 (from end)\n",
    "    print(\"\\nAfter seek(-1, 2):\", f.tell())\n",
    "\n",
    "    # Move to the 5th character from last\n",
    "    f.seek(-5, 2)  # offset = -5, whence = 2 (from end)\n",
    "    print(\"\\nAfter seek(-5, 2):\", f.tell())\n"
   ]
  },
  {
   "cell_type": "markdown",
   "metadata": {},
   "source": [
    "### Pickle - serialization & deserialization of data"
   ]
  },
  {
   "cell_type": "code",
   "execution_count": 2,
   "metadata": {},
   "outputs": [
    {
     "name": "stdout",
     "output_type": "stream",
     "text": [
      "['red', 'blue', 'green', 'black']\n",
      "['red', 'blue', 'green', 'black']\n"
     ]
    }
   ],
   "source": [
    "import pickle\n",
    "\n",
    "filePath = 'myFile.pkl' # `.pkl` extension for pickle files\n",
    "\n",
    "# Without `with` keyword\n",
    "myList = ['red', 'blue', 'green', 'black']\n",
    "fileObj = open(filePath, 'wb')\n",
    "pickle.dump(myList, fileObj) # to serialize a given data object\n",
    "fileObj.close()\n",
    "\n",
    "fileObj = open(filePath, 'rb')\n",
    "myList = pickle.load(fileObj) # to deserialize a given data object\n",
    "print(myList)\n",
    "fileObj.close()\n",
    "\n",
    "# With `with` keyword\n",
    "with open(filePath, 'wb') as fileObj:\n",
    "    pickle.dump(myList, fileObj)\n",
    "\n",
    "with open(filePath, 'rb') as fileObj:\n",
    "    myList = pickle.load(fileObj)\n",
    "\n",
    "print(myList)\n"
   ]
  },
  {
   "cell_type": "markdown",
   "metadata": {},
   "source": [
    "### Homework"
   ]
  },
  {
   "cell_type": "markdown",
   "metadata": {},
   "source": [
    "read a csv file using fileRead methods, and store data in a list of dictionaries\n",
    "\n",
    "Input:\n",
    "```code\n",
    "index,name,hp,attack,defense,speed\n",
    "1,\"BULBASAUR\",45,49,49,45\n",
    "2,\"IVYSAUR\",60,62,63,60\n",
    "3,\"VENUSAUR\",80,82,83,80\n",
    "```\n",
    "\n",
    "Output:\n",
    "```code\n",
    "data = [\n",
    "    {'index' : 1, 'name' : 'BULBASAUR', 'hp' : 45, 'attack' : 49, 'defense' : 49, 'speed' : 45},\n",
    "    {'index' : 2, 'name' : 'IVYSAUR', 'hp' : 60, 'attack' : 62, 'defense' : 63, 'speed' : 60},\n",
    "    {'index' : 3, 'name' : 'VENUSAUR', 'hp' : 80, 'attack' : 82, 'defense' : 83, 'speed' : 80},\n",
    "]\n",
    "```"
   ]
  }
 ],
 "metadata": {
  "kernelspec": {
   "display_name": "Python 3",
   "language": "python",
   "name": "python3"
  },
  "language_info": {
   "codemirror_mode": {
    "name": "ipython",
    "version": 3
   },
   "file_extension": ".py",
   "mimetype": "text/x-python",
   "name": "python",
   "nbconvert_exporter": "python",
   "pygments_lexer": "ipython3",
   "version": "3.13.2"
  }
 },
 "nbformat": 4,
 "nbformat_minor": 2
}
