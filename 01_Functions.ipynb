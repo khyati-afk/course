{
 "cells": [
  {
   "cell_type": "markdown",
   "metadata": {},
   "source": [
    "## Recursion"
   ]
  },
  {
   "cell_type": "markdown",
   "metadata": {},
   "source": [
    "Recursion is when a function calls itself"
   ]
  },
  {
   "cell_type": "code",
   "execution_count": 1,
   "metadata": {},
   "outputs": [
    {
     "name": "stdout",
     "output_type": "stream",
     "text": [
      "15\n"
     ]
    }
   ],
   "source": [
    "def sumUpto(n):\n",
    "    # base case\n",
    "    if(n == 0):\n",
    "        return 0    # base case allows us to prevent an infinite loop of recursive calls\n",
    "    \n",
    "    # recursive call\n",
    "    return n + sumUpto(n-1) # this function calls itself\n",
    "\n",
    "print(sumUpto(5))"
   ]
  },
  {
   "cell_type": "code",
   "execution_count": null,
   "metadata": {},
   "outputs": [
    {
     "name": "stdout",
     "output_type": "stream",
     "text": [
      "5\n",
      "4\n",
      "3\n",
      "2\n",
      "1\n",
      "0\n"
     ]
    }
   ],
   "source": [
    "def countDown(n):\n",
    "    print(n)\n",
    "    if(n > 0):\n",
    "        countDown(n-1)\n",
    "\n",
    "countDown(5)"
   ]
  },
  {
   "cell_type": "code",
   "execution_count": null,
   "metadata": {},
   "outputs": [
    {
     "name": "stdout",
     "output_type": "stream",
     "text": [
      "0\n",
      "1\n",
      "2\n",
      "3\n",
      "4\n",
      "5\n"
     ]
    }
   ],
   "source": [
    "def countDown(n):\n",
    "    if(n > 0):\n",
    "        countDown(n-1)\n",
    "    print(n)\n",
    "\n",
    "countDown(5)"
   ]
  },
  {
   "cell_type": "code",
   "execution_count": null,
   "metadata": {},
   "outputs": [
    {
     "name": "stdout",
     "output_type": "stream",
     "text": [
      "5\n"
     ]
    }
   ],
   "source": [
    "def fib(n):\n",
    "    if(n == 0 or n == 1):\n",
    "    # if its the base case return the result\n",
    "        return n\n",
    "    # else make the recursive call\n",
    "    return fib(n-1) + fib(n-2)\n",
    "\n",
    "print(fib(5))"
   ]
  },
  {
   "cell_type": "markdown",
   "metadata": {},
   "source": [
    "## Docstrings"
   ]
  },
  {
   "cell_type": "code",
   "execution_count": 3,
   "metadata": {},
   "outputs": [],
   "source": [
    "def add(a, b):\n",
    "   \"\"\"\n",
    "   Returns the sum of two numbers.\n",
    "\n",
    "   - Some lines\n",
    "      - Some more lines\n",
    "         - Lets have some more lines\n",
    "   - I guess that's enough\n",
    "\n",
    "   click [here](https://www.google.com)\n",
    "   \"\"\"\n",
    "   return a + b"
   ]
  },
  {
   "cell_type": "code",
   "execution_count": null,
   "metadata": {},
   "outputs": [],
   "source": [
    "add() # hover over the function name to see the effect"
   ]
  },
  {
   "cell_type": "markdown",
   "metadata": {},
   "source": [
    "## Scoping"
   ]
  },
  {
   "cell_type": "code",
   "execution_count": null,
   "metadata": {},
   "outputs": [
    {
     "name": "stdout",
     "output_type": "stream",
     "text": [
      "initial value of abc = 5\n",
      "updated value of abc = 3\n",
      "final value of   abc = 5\n"
     ]
    }
   ],
   "source": [
    "abc = 5\n",
    "print(f\"initial value of abc = {abc}\")\n",
    "\n",
    "def demo_func():\n",
    "    abc = 3 # inside the function a completely new variable is created even if we use the same name\n",
    "            # this does not change the value of the 'abc' variable outside the function\n",
    "    print(f\"updated value of abc = {abc}\")\n",
    "\n",
    "demo_func()\n",
    "\n",
    "print(f\"final value of   abc = {abc}\")\n"
   ]
  },
  {
   "cell_type": "code",
   "execution_count": null,
   "metadata": {},
   "outputs": [
    {
     "name": "stdout",
     "output_type": "stream",
     "text": [
      "initial value of abc = 5\n",
      "updated value of abc = 3\n",
      "final value of   abc = 3\n"
     ]
    }
   ],
   "source": [
    "abc = 5\n",
    "print(f\"initial value of abc = {abc}\")\n",
    "\n",
    "def demo_func():\n",
    "    global abc  # now whenever we use 'abc' inside the function it will refer to the global 'abc' variable\n",
    "    abc = 3     # this will change the value of the 'abc' variable outside the function\n",
    "    print(f\"updated value of abc = {abc}\")\n",
    "\n",
    "demo_func()\n",
    "\n",
    "print(f\"final value of   abc = {abc}\")\n"
   ]
  },
  {
   "cell_type": "markdown",
   "metadata": {},
   "source": [
    "## Homework"
   ]
  },
  {
   "cell_type": "markdown",
   "metadata": {},
   "source": [
    "- Write a function to reverse a given list using recursion\n",
    "- Write a function to sort a given list using recursion\n",
    "- Add docstrings to both of these functions"
   ]
  },
  {
   "cell_type": "markdown",
   "metadata": {},
   "source": [
    "## *args && **kwargs "
   ]
  },
  {
   "cell_type": "code",
   "execution_count": 8,
   "metadata": {},
   "outputs": [
    {
     "name": "stdout",
     "output_type": "stream",
     "text": [
      "(3, 4, 8, 1)\n",
      "<class 'tuple'>\n"
     ]
    }
   ],
   "source": [
    "def demo_func(*args):\n",
    "    print(args)\n",
    "    print(type(args))\n",
    "\n",
    "demo_func(3, 4, 8, 1)   # the function can take an arbitrary number of arguments and will store them in a tuple."
   ]
  },
  {
   "cell_type": "code",
   "execution_count": 9,
   "metadata": {},
   "outputs": [
    {
     "name": "stdout",
     "output_type": "stream",
     "text": [
      "{'abc': 21, 'pqr': 23, 'xyz': 17}\n",
      "<class 'dict'>\n"
     ]
    }
   ],
   "source": [
    "def demo_func(**kwargs):\n",
    "    print(kwargs)\n",
    "    print(type(kwargs))\n",
    "\n",
    "demo_func(abc = 21, pqr = 23, xyz = 17) # the function can take an arbitrary number of keyword arguments and will store them in a dictionary."
   ]
  },
  {
   "cell_type": "code",
   "execution_count": 11,
   "metadata": {},
   "outputs": [
    {
     "name": "stdout",
     "output_type": "stream",
     "text": [
      "1\n",
      "2\n",
      "(3, 4, 5, 6)\n"
     ]
    }
   ],
   "source": [
    "# In this function first two values will be stored in a and b and the rest will be stored in c\n",
    "def demo_func(a, b, *c):\n",
    "    print(a)\n",
    "    print(b)\n",
    "    print(c)\n",
    "\n",
    "demo_func(1, 2, 3, 4, 5, 6)"
   ]
  },
  {
   "cell_type": "code",
   "execution_count": 12,
   "metadata": {},
   "outputs": [
    {
     "name": "stdout",
     "output_type": "stream",
     "text": [
      "1\n",
      "2\n",
      "{'c': 3, 'd': 4, 'e': 5, 'f': 6}\n"
     ]
    }
   ],
   "source": [
    "# In this function first two values will be stored in a and b and the rest will be stored in c\n",
    "def func(a, b, **c):\n",
    "    print(a)\n",
    "    print(b)\n",
    "    print(c)\n",
    "\n",
    "func(a = 1, b = 2, c = 3, d = 4, e = 5, f = 6)"
   ]
  },
  {
   "cell_type": "markdown",
   "metadata": {},
   "source": [
    "## Lambda functions, Filters & Maps"
   ]
  },
  {
   "cell_type": "code",
   "execution_count": null,
   "metadata": {},
   "outputs": [
    {
     "name": "stdout",
     "output_type": "stream",
     "text": [
      "7\n",
      "7\n"
     ]
    }
   ],
   "source": [
    "# Lambda functions - function definition in just one line\n",
    "# it is mainly used when your function can be represented in a single expression\n",
    "\n",
    "# Syntax\n",
    "# function_name = lambda (arguments sep by commas) : (return expression)\n",
    "\n",
    "# This is how you define a simple function\n",
    "def add(x, y):\n",
    "    ans = x + y\n",
    "    return ans\n",
    "\n",
    "print(add(3, 4)) # function call\n",
    "\n",
    "# This is how you define a lambda function\n",
    "add = lambda x, y : x + y\n",
    "\n",
    "print(add(3, 4)) # function call\n"
   ]
  },
  {
   "cell_type": "code",
   "execution_count": 14,
   "metadata": {},
   "outputs": [
    {
     "name": "stdout",
     "output_type": "stream",
     "text": [
      "5.0\n"
     ]
    }
   ],
   "source": [
    "# Another example of lambda function\n",
    "import math\n",
    "hypotenuse = lambda base, height: math.sqrt(base ** 2 + height ** 2)\n",
    "\n",
    "print(hypotenuse(3, 4)) # function call"
   ]
  },
  {
   "cell_type": "code",
   "execution_count": null,
   "metadata": {},
   "outputs": [
    {
     "name": "stdout",
     "output_type": "stream",
     "text": [
      "[0, 2, 4, 6, 8, 10, 12, 14, 16, 18]\n"
     ]
    }
   ],
   "source": [
    "# Filter\n",
    "# It is used to create a new sequence of elements from an existing sequence,\n",
    "# by filtering out some elements that do not pass a given condition\n",
    "\n",
    "# Syntax\n",
    "# x = list(filter(condition , sequence))\n",
    "\n",
    "x = list(filter(lambda num : num%2 == 0, range(20)))\n",
    "print(x)"
   ]
  },
  {
   "cell_type": "code",
   "execution_count": null,
   "metadata": {},
   "outputs": [
    {
     "name": "stdout",
     "output_type": "stream",
     "text": [
      "['Hello', 'I']\n"
     ]
    }
   ],
   "source": [
    "# example : it only keeps the words that start with a capital letter\n",
    "\n",
    "x = list(filter(lambda word : word[0].isupper(), \"Hello I am here\".split()))\n",
    "print(x)"
   ]
  },
  {
   "cell_type": "code",
   "execution_count": null,
   "metadata": {},
   "outputs": [
    {
     "name": "stdout",
     "output_type": "stream",
     "text": [
      "[0, 1, 4, 9, 16]\n"
     ]
    }
   ],
   "source": [
    "# Map\n",
    "# It is used to create a new sequence of elements from an existing sequence,\n",
    "# by mapping each element to a new value using a given expression\n",
    "\n",
    "# Syntax\n",
    "# x = list(map(expression , sequence))\n",
    "\n",
    "x = list(map(lambda num : num*num, range(5)))\n",
    "print(x)"
   ]
  },
  {
   "cell_type": "code",
   "execution_count": null,
   "metadata": {},
   "outputs": [
    {
     "name": "stdout",
     "output_type": "stream",
     "text": [
      "[5, 1, 2, 4]\n"
     ]
    }
   ],
   "source": [
    "# example : to get the length of each word\n",
    "\n",
    "x = list(map(lambda word : len(word), \"Hello I am here\".split()))\n",
    "print(x)"
   ]
  },
  {
   "cell_type": "markdown",
   "metadata": {},
   "source": [
    "## Homework"
   ]
  },
  {
   "cell_type": "markdown",
   "metadata": {},
   "source": [
    "- Write a function that accepts an arbitrary number of numbers, and returns their mean.\n",
    "- Write a function that accepts an arbitrary number of key-value pairs (key:studentName, val:studentMarks), and return the name(s) of the youngest student.\n",
    "- Write a function that:\n",
    "    - accepts the following arguments\n",
    "        - a single number denoting the total obtainable marks\n",
    "        - a list of marks scored by students (list size is unknown)\n",
    "    - and it return a list of percentage score of each student using map on the list of marks\n",
    "    - example input : `20, 16, 8, 13, 18, 17`\n",
    "    - expected output : `[80.0, 40.0, 65.0, 90.0, 85.0]`"
   ]
  },
  {
   "cell_type": "markdown",
   "metadata": {},
   "source": [
    "## Closure"
   ]
  },
  {
   "cell_type": "markdown",
   "metadata": {},
   "source": [
    "Closure is a nested function (function defined inside another function), that can access the variables from the outer function even after the outer function is terminated"
   ]
  },
  {
   "cell_type": "code",
   "execution_count": 64,
   "metadata": {},
   "outputs": [
    {
     "name": "stdout",
     "output_type": "stream",
     "text": [
      "5\n",
      "1\n",
      "3\n",
      "2\n",
      "Hello Khyati\n",
      "4\n",
      "6\n"
     ]
    }
   ],
   "source": [
    "def greet(name):\n",
    "    print(1)\n",
    "    def say_hello():\n",
    "        print(2)\n",
    "        print(f\"Hello {name}\")\n",
    "    print(3)\n",
    "    say_hello()\n",
    "    print(4)\n",
    "\n",
    "print(5)\n",
    "greet(\"Khyati\")\n",
    "print(6)"
   ]
  },
  {
   "cell_type": "markdown",
   "metadata": {},
   "source": [
    "If we just return the `inner function` from the `outer function`, we can still use it even after the outer function is terminated"
   ]
  },
  {
   "cell_type": "code",
   "execution_count": 65,
   "metadata": {},
   "outputs": [
    {
     "name": "stdout",
     "output_type": "stream",
     "text": [
      "Hello Khyati\n"
     ]
    }
   ],
   "source": [
    "def greet(name): # creating the outer function\n",
    "\n",
    "    def say_hello(): # creating the inner function inside the outer function\n",
    "        print(f\"Hello {name}\")\n",
    "\n",
    "    return say_hello # returning the inner function from the outer function\n",
    "\n",
    "inner = greet(\"Khyati\") # saving the returned inner function inside a variable/function object\n",
    "\n",
    "inner() # calling that function object"
   ]
  },
  {
   "cell_type": "markdown",
   "metadata": {},
   "source": [
    "Closure allows us to create Read-Only variables"
   ]
  },
  {
   "cell_type": "code",
   "execution_count": null,
   "metadata": {},
   "outputs": [
    {
     "name": "stdout",
     "output_type": "stream",
     "text": [
      "6\n",
      "5\n"
     ]
    }
   ],
   "source": [
    "def outer():\n",
    "    abc = 5 # creating a variable local to the outer function\n",
    "    def inner():\n",
    "        nonlocal abc\n",
    "        return abc # returning the value of the variable local to the outer function\n",
    "\n",
    "    return inner # returning the inner function from the outer function\n",
    "\n",
    "result = outer() # saving the returned inner function inside a variable/function object\n",
    "\n",
    "\n",
    "xyz = result()  # saving the returned value (of abc) inside a variable\n",
    "xyz += 1        # changing the value of xyz\n",
    "print(xyz)\n",
    "\n",
    "print(result()) # the value of abc is still unchanged, hence abc is a read-only variable\n"
   ]
  },
  {
   "cell_type": "markdown",
   "metadata": {},
   "source": [
    "Closures allow us to give partial access to some variables"
   ]
  },
  {
   "cell_type": "code",
   "execution_count": null,
   "metadata": {},
   "outputs": [
    {
     "name": "stdout",
     "output_type": "stream",
     "text": [
      "count = 1\n",
      "count = 2\n",
      "count = 3\n",
      "count = 4\n",
      "count = 5\n"
     ]
    }
   ],
   "source": [
    "def counter(start):\n",
    "    count = start # creating a variable local to the outer function\n",
    "    def incr():\n",
    "        nonlocal count\n",
    "        count = count + 1 # updating the value of variable local to the outer function\n",
    "        print(f\"count = {count}\")\n",
    "\n",
    "    return incr\n",
    "\n",
    "trigger = counter(0) # trigger is a function that increment the value of count by 1 each time it is called\n",
    "\n",
    "for _ in range(5):\n",
    "    trigger()\n",
    "\n",
    "# in this example we can only increment the value of the count variable, and there is no way to decrement its value.\n",
    "# hence we have a partial access to this variable"
   ]
  },
  {
   "cell_type": "code",
   "execution_count": 29,
   "metadata": {},
   "outputs": [
    {
     "data": {
      "text/plain": [
       "625"
      ]
     },
     "execution_count": 29,
     "metadata": {},
     "output_type": "execute_result"
    }
   ],
   "source": [
    "def multiply(n):\n",
    "    def by(x):\n",
    "        return n*x\n",
    "    \n",
    "    return by\n",
    "\n",
    "m3 = multiply(3)\n",
    "m3(2)\n",
    "\n",
    "m5 = multiply(5)\n",
    "m5(m5(m5(5)))"
   ]
  },
  {
   "cell_type": "markdown",
   "metadata": {},
   "source": [
    "## In-built Functions"
   ]
  },
  {
   "cell_type": "code",
   "execution_count": 21,
   "metadata": {},
   "outputs": [
    {
     "name": "stdout",
     "output_type": "stream",
     "text": [
      "5\n",
      "0\n",
      "5\n",
      "\n",
      "3\n",
      "3\n"
     ]
    }
   ],
   "source": [
    "# abs() : returns the absolute value of a number\n",
    "print(abs(-5))\n",
    "print(abs(0))\n",
    "print(abs(+5))\n",
    "print()\n",
    "# can also be used to find the difference between two numbers irrespective of which one is greater\n",
    "a, b = 5, 2\n",
    "print(abs(a - b))\n",
    "print(abs(b - a))"
   ]
  },
  {
   "cell_type": "code",
   "execution_count": 20,
   "metadata": {},
   "outputs": [
    {
     "name": "stdout",
     "output_type": "stream",
     "text": [
      "True\n",
      "False\n",
      "False\n",
      "True\n",
      "\n",
      "True\n",
      "True\n",
      "False\n",
      "False\n"
     ]
    }
   ],
   "source": [
    "# all() : returns True if all elements of an iterable are True\n",
    "print(all([True, True, True, True]))\n",
    "print(all([True, False, True, False]))\n",
    "print(all([False, False, False, False]))\n",
    "print(all([])) # for empty list, it returns True\n",
    "print()\n",
    "# any() : returns True if any element of an iterable is True\n",
    "print(any([True, True, True, True]))\n",
    "print(any([True, False, True, False]))\n",
    "print(any([False, False, False, False]))\n",
    "print(any([])) # for empty list, it returns False"
   ]
  },
  {
   "cell_type": "code",
   "execution_count": null,
   "metadata": {},
   "outputs": [
    {
     "name": "stdout",
     "output_type": "stream",
     "text": [
      "5\n",
      "17\n",
      "25\n"
     ]
    }
   ],
   "source": [
    "# eval() : evaluates the expression passed to it; follows BODMAS rules.\n",
    "print(eval(\"2+3\"))\n",
    "print(eval(\"2 + 3 * 5\"))\n",
    "print(eval(\"(2 + 3) * 5\"))"
   ]
  },
  {
   "cell_type": "code",
   "execution_count": 4,
   "metadata": {},
   "outputs": [
    {
     "name": "stdout",
     "output_type": "stream",
     "text": [
      "5 + 6 = 11\n"
     ]
    }
   ],
   "source": [
    "# exec() : executes the Python code passed to it\n",
    "\n",
    "code = \"\"\"\n",
    "a = 5\n",
    "b = 6\n",
    "c = a + b\n",
    "print(f\"{a} + {b} = {c}\")\n",
    "\"\"\"\n",
    "\n",
    "exec(code)"
   ]
  },
  {
   "cell_type": "markdown",
   "metadata": {},
   "source": [
    "## Homework"
   ]
  },
  {
   "cell_type": "markdown",
   "metadata": {},
   "source": [
    "- Make a function (with the help of closures) such that whenever you call it, it gives you a new number in the series, starting from 1.\n",
    "    - add parameter to define the starting number of the series.\n",
    "    - add parameter to define the difference between two numbers in the series."
   ]
  }
 ],
 "metadata": {
  "kernelspec": {
   "display_name": "Python 3",
   "language": "python",
   "name": "python3"
  },
  "language_info": {
   "codemirror_mode": {
    "name": "ipython",
    "version": 3
   },
   "file_extension": ".py",
   "mimetype": "text/x-python",
   "name": "python",
   "nbconvert_exporter": "python",
   "pygments_lexer": "ipython3",
   "version": "3.13.1"
  }
 },
 "nbformat": 4,
 "nbformat_minor": 2
}
