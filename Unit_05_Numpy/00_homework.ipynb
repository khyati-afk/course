{
 "cells": [
  {
   "cell_type": "code",
   "execution_count": 1,
   "id": "f9515ec3",
   "metadata": {},
   "outputs": [],
   "source": [
    "import numpy as np"
   ]
  },
  {
   "cell_type": "markdown",
   "id": "bb068126",
   "metadata": {},
   "source": [
    "#### Q1. Write a functions that takes in an n-dimensional array and converts that to a 1d array without using the `.reshape()` method."
   ]
  },
  {
   "cell_type": "code",
   "execution_count": null,
   "id": "58cb72f7",
   "metadata": {},
   "outputs": [],
   "source": [
    "def linearize(nd_arr):\n",
    "    return nd_arr"
   ]
  },
  {
   "cell_type": "markdown",
   "id": "248aa9cb",
   "metadata": {},
   "source": [
    "##### Testcases"
   ]
  },
  {
   "cell_type": "code",
   "execution_count": 8,
   "id": "69ecddd9",
   "metadata": {},
   "outputs": [
    {
     "name": "stdout",
     "output_type": "stream",
     "text": [
      "1\n",
      "2\n",
      "3\n",
      "4\n"
     ]
    },
    {
     "data": {
      "text/plain": [
       "array([1, 2, 3, 4])"
      ]
     },
     "execution_count": 8,
     "metadata": {},
     "output_type": "execute_result"
    }
   ],
   "source": [
    "linearize(np.array([[1, 2, 3, 4]]))\n",
    "\n",
    "# Expected Output : [1, 2, 3, 4]"
   ]
  },
  {
   "cell_type": "code",
   "execution_count": 9,
   "id": "5bdfe54c",
   "metadata": {},
   "outputs": [
    {
     "name": "stdout",
     "output_type": "stream",
     "text": [
      "1\n",
      "2\n",
      "3\n",
      "4\n"
     ]
    },
    {
     "data": {
      "text/plain": [
       "array([1, 2, 3, 4])"
      ]
     },
     "execution_count": 9,
     "metadata": {},
     "output_type": "execute_result"
    }
   ],
   "source": [
    "linearize(np.array([1, 2, 3, 4]))\n",
    "\n",
    "# Expected Output : array([1, 2, 3, 4])"
   ]
  },
  {
   "cell_type": "code",
   "execution_count": 10,
   "id": "decedd8a",
   "metadata": {},
   "outputs": [
    {
     "name": "stdout",
     "output_type": "stream",
     "text": [
      "1\n",
      "2\n",
      "3\n",
      "4\n",
      "5\n",
      "6\n",
      "7\n",
      "8\n"
     ]
    },
    {
     "data": {
      "text/plain": [
       "array([1, 2, 3, 4, 5, 6, 7, 8])"
      ]
     },
     "execution_count": 10,
     "metadata": {},
     "output_type": "execute_result"
    }
   ],
   "source": [
    "linearize(np.array([[[1, 2], [3, 4]], [[5, 6], [7, 8]]]))\n",
    "\n",
    "# Expected Output : array([1, 2, 3, 4, 5, 6, 7, 8])"
   ]
  },
  {
   "cell_type": "code",
   "execution_count": 11,
   "id": "3216e672",
   "metadata": {},
   "outputs": [
    {
     "name": "stdout",
     "output_type": "stream",
     "text": [
      "0\n"
     ]
    },
    {
     "data": {
      "text/plain": [
       "array([0])"
      ]
     },
     "execution_count": 11,
     "metadata": {},
     "output_type": "execute_result"
    }
   ],
   "source": [
    "linearize(np.array([[[0]]]))\n",
    "\n",
    "# Expected Output : [0]"
   ]
  },
  {
   "cell_type": "code",
   "execution_count": 12,
   "id": "67545085",
   "metadata": {},
   "outputs": [
    {
     "data": {
      "text/plain": [
       "array([], dtype=float64)"
      ]
     },
     "execution_count": 12,
     "metadata": {},
     "output_type": "execute_result"
    }
   ],
   "source": [
    "linearize(np.array([[], [], []]))\n",
    "\n",
    "# Expected Output : []"
   ]
  }
 ],
 "metadata": {
  "kernelspec": {
   "display_name": "Python 3",
   "language": "python",
   "name": "python3"
  },
  "language_info": {
   "codemirror_mode": {
    "name": "ipython",
    "version": 3
   },
   "file_extension": ".py",
   "mimetype": "text/x-python",
   "name": "python",
   "nbconvert_exporter": "python",
   "pygments_lexer": "ipython3",
   "version": "3.13.2"
  }
 },
 "nbformat": 4,
 "nbformat_minor": 5
}
