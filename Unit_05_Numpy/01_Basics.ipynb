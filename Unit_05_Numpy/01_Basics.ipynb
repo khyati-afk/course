{
 "cells": [
  {
   "cell_type": "markdown",
   "id": "597de90c",
   "metadata": {},
   "source": [
    "## About Numpy"
   ]
  },
  {
   "cell_type": "markdown",
   "id": "573d8113",
   "metadata": {},
   "source": [
    "NumPy (Numerical Python) is an open source Python library that’s widely used in science and engineering. The NumPy library contains multidimensional array data structures, such as the homogeneous, N-dimensional ndarray, and a large library of functions that operate efficiently on these data structures."
   ]
  },
  {
   "cell_type": "markdown",
   "id": "13671462",
   "metadata": {},
   "source": [
    "Although Python lists are excellent, general-purpose containers. They can be `heterogeneous`, meaning that they can contain elements of a variety of types.\n",
    "\n",
    "On the other hand, most NumPy arrays have some restrictions. For instance:\n",
    "- They must be `homogeneous`, i.e. All elements of the array must be of the same type of data.\n",
    "- Once created, the total size of the array can’t change.\n",
    "- The shape must be `rectangular`, not jagged; e.g., each row of a two-dimensional array must have the same number of columns.\n",
    "\n",
    "When these conditions are met, NumPy exploits these characteristics to improve speed, reduce memory consumption, and offer a high-level syntax for performing a variety of common processing tasks."
   ]
  },
  {
   "cell_type": "markdown",
   "id": "da159c44",
   "metadata": {},
   "source": [
    "## Installing and Importing"
   ]
  },
  {
   "cell_type": "markdown",
   "id": "cc045db3",
   "metadata": {},
   "source": [
    "To install Numpy as a package:\n",
    "\n",
    "```shell\n",
    ">> pip install numpy\n",
    "```\n",
    "\n",
    "To import numpy:"
   ]
  },
  {
   "cell_type": "code",
   "execution_count": 1,
   "id": "76bba731",
   "metadata": {},
   "outputs": [],
   "source": [
    "import numpy as np"
   ]
  },
  {
   "cell_type": "markdown",
   "id": "4cc6bb86",
   "metadata": {},
   "source": [
    "## Initialising numpy arrays"
   ]
  },
  {
   "cell_type": "markdown",
   "id": "7ce585da",
   "metadata": {},
   "source": [
    "#### Initialising arrays from Python sequences"
   ]
  },
  {
   "cell_type": "markdown",
   "id": "e0e706df",
   "metadata": {},
   "source": [
    "One way to initialize an array is using a Python sequence, such as a `list` or a `tuple`.\n",
    "to initialize an array from a sequence, we use `np.array()`.\n",
    "\n",
    "We can also `np.array()` on another array to make a new copy of it."
   ]
  },
  {
   "cell_type": "code",
   "execution_count": 2,
   "id": "4d20ed6c",
   "metadata": {},
   "outputs": [
    {
     "name": "stdout",
     "output_type": "stream",
     "text": [
      "<class 'list'> [5, 2, 1, 4]\n",
      "<class 'tuple'> (5, 2, 1, 4)\n",
      "\n",
      "<class 'numpy.ndarray'> [5 2 1 4]\n",
      "<class 'numpy.ndarray'> [5 2 1 4]\n",
      "<class 'numpy.ndarray'> [5 2 1 4]\n",
      "\n",
      "array = [5 2 1 4]\n",
      "dimension            = 1\n",
      "shape                = (4,)\n",
      "data type            = int16\n",
      "no of elements       = 4\n",
      "no of elements       = 4\n",
      "size of each element = 2\n",
      "size of array        = 8\n",
      "size of array        = 8\n"
     ]
    }
   ],
   "source": [
    "myList = [5, 2, 1, 4]\n",
    "print(type(myList), myList)\n",
    "myTuple = (5, 2, 1, 4)\n",
    "print(type(myTuple), myTuple)\n",
    "\n",
    "print()\n",
    "fromTuple = np.array(myTuple)\n",
    "print(type(fromTuple), fromTuple)\n",
    "fromList = np.array(myList)\n",
    "print(type(fromList), fromList)\n",
    "fromArray = np.array(fromList)\n",
    "print(type(fromArray), fromArray)\n",
    "\n",
    "a = np.array(fromArray, 'int16')\n",
    "print(f\"\\narray = {a}\")\n",
    "print(f\"dimension            = {a.ndim}\")\n",
    "print(f\"shape                = {a.shape}\")\n",
    "print(f\"data type            = {a.dtype}\")\n",
    "print(f\"no of elements       = {len(a)}\")\n",
    "print(f\"no of elements       = {a.size}\")\n",
    "print(f\"size of each element = {a.itemsize}\")\n",
    "print(f\"size of array        = {a.size * a.itemsize}\")\n",
    "print(f\"size of array        = {a.nbytes}\")"
   ]
  },
  {
   "cell_type": "markdown",
   "id": "4e4264c8",
   "metadata": {},
   "source": [
    "we can also initialize a multi-dimensional array using a `nested list` or `nested tuple`."
   ]
  },
  {
   "cell_type": "code",
   "execution_count": 3,
   "id": "b4477890",
   "metadata": {},
   "outputs": [
    {
     "name": "stdout",
     "output_type": "stream",
     "text": [
      "[[9.1 8.2 7.3]\n",
      " [3.7 2.8 1.9]]\n",
      "dimension = 2\n",
      "shape     = (2, 3)\n",
      "length    = 2\n",
      "size      = 6\n"
     ]
    }
   ],
   "source": [
    "nested = np.array(\n",
    "    [\n",
    "        [9.1, 8.2, 7.3],\n",
    "        [3.7, 2.8, 1.9]\n",
    "    ]\n",
    ")\n",
    "print(nested)\n",
    "print(f\"dimension = {nested.ndim}\")\n",
    "print(f\"shape     = {nested.shape}\")\n",
    "print(f\"length    = {len(nested)}\")\n",
    "print(f\"size      = {nested.size}\")"
   ]
  },
  {
   "cell_type": "markdown",
   "id": "ccfbed19",
   "metadata": {},
   "source": [
    "we can also initialize an array using a `list comprehension`."
   ]
  },
  {
   "cell_type": "code",
   "execution_count": 4,
   "id": "f6909a69",
   "metadata": {},
   "outputs": [
    {
     "name": "stdout",
     "output_type": "stream",
     "text": [
      "[0, 2, 4, 6, 8, 10, 12, 14, 16, 18, 20, 22, 24, 26, 28, 30, 32, 34, 36, 38]\n",
      "[ 0  2  4  6  8 10 12 14 16 18 20 22 24 26 28 30 32 34 36 38]\n"
     ]
    }
   ],
   "source": [
    "myList = [i for i in range(0, 40, 2)]\n",
    "print(myList)\n",
    "\n",
    "myArray = np.array( [i for i in range(0, 40, 2)] )\n",
    "print(myArray)"
   ]
  },
  {
   "cell_type": "markdown",
   "id": "955b836e",
   "metadata": {},
   "source": [
    "#### Special constructors in Numpy"
   ]
  },
  {
   "cell_type": "markdown",
   "id": "3a30a424",
   "metadata": {},
   "source": [
    "`np.arange()` creates an array with regularly spaced values within a given interval.\n",
    "It's similar to Python's built-in `range()`, but it returns a NumPy array and supports decimal (float) steps."
   ]
  },
  {
   "cell_type": "code",
   "execution_count": 5,
   "id": "450aa643",
   "metadata": {},
   "outputs": [
    {
     "name": "stdout",
     "output_type": "stream",
     "text": [
      "arr = [0 1 2 3 4]\n",
      "arr = [2 3 4 5 6 7 8 9]\n",
      "arr = [2 4 6 8]\n",
      "arr = [0.  0.2 0.4 0.6 0.8]\n",
      "arr = [1 1 1 1 1 1 1 1 1 1]\n"
     ]
    }
   ],
   "source": [
    "arr = np.arange(5)\n",
    "print(f\"arr = {arr}\")\n",
    "\n",
    "arr = np.arange(2, 10)\n",
    "print(f\"arr = {arr}\")\n",
    "\n",
    "arr = np.arange(2, 10, 2)\n",
    "print(f\"arr = {arr}\") \n",
    "\n",
    "arr = np.arange(0, 1, 0.2)\n",
    "print(f\"arr = {arr}\")\n",
    "\n",
    "arr = np.arange(1, 6, 0.5, dtype='int8')\n",
    "print(f\"arr = {arr}\") "
   ]
  },
  {
   "cell_type": "markdown",
   "id": "613c6f02",
   "metadata": {},
   "source": [
    "`np.linspace()` returns `n` evenly spaced numbers over a specified interval, including both the `start` and `stop` values."
   ]
  },
  {
   "cell_type": "code",
   "execution_count": 6,
   "id": "80bf2b13",
   "metadata": {},
   "outputs": [
    {
     "name": "stdout",
     "output_type": "stream",
     "text": [
      "arr = [0.   0.25 0.5  0.75 1.  ]\n",
      "arr = [0.  0.2 0.4 0.6 0.8]\n",
      "arr = [0.   0.25 0.5  0.75 1.  ], stepsize = 0.25\n",
      "arr = [0 0 0 0 1]\n"
     ]
    }
   ],
   "source": [
    "start, stop, n = 0, 1, 5\n",
    "\n",
    "arr = np.linspace(start, stop, n)\n",
    "print(f\"arr = {arr}\")\n",
    "\n",
    "arr = np.linspace(start, stop, n, endpoint=False)\n",
    "print(f\"arr = {arr}\")\n",
    "\n",
    "arr, step = np.linspace(start, stop, n, retstep=True)\n",
    "print(f\"arr = {arr}, stepsize = {step}\")\n",
    "\n",
    "arr = np.linspace(start, stop, n, dtype=int)\n",
    "print(f\"arr = {arr}\")"
   ]
  },
  {
   "cell_type": "markdown",
   "id": "1ffe4f35",
   "metadata": {},
   "source": [
    "We have a few more constructors that generate special arrays of given shapes"
   ]
  },
  {
   "cell_type": "code",
   "execution_count": 7,
   "id": "a0886b1c",
   "metadata": {},
   "outputs": [
    {
     "name": "stdout",
     "output_type": "stream",
     "text": [
      "nd array with all zeros\n",
      "[[0. 0. 0. 0.]\n",
      " [0. 0. 0. 0.]\n",
      " [0. 0. 0. 0.]]\n",
      "Default data type = float64\n",
      "\n",
      "nd array with all zeros\n",
      "[[1. 1. 1. 1.]\n",
      " [1. 1. 1. 1.]\n",
      " [1. 1. 1. 1.]]\n",
      "Default data type = float64\n",
      "\n",
      "nd array with all same value\n",
      "[[7 7 7 7]\n",
      " [7 7 7 7]\n",
      " [7 7 7 7]]\n",
      "Default data type = int64\n",
      "\n"
     ]
    }
   ],
   "source": [
    "print(\"nd array with all zeros\")\n",
    "m = np.zeros((3, 4))\n",
    "print(m)\n",
    "print(f\"Default data type = {m.dtype}\\n\")\n",
    "\n",
    "print(\"nd array with all zeros\")\n",
    "m = np.ones((3, 4))\n",
    "print(m)\n",
    "print(f\"Default data type = {m.dtype}\\n\")\n",
    "\n",
    "print(\"nd array with all same value\")\n",
    "value = 7\n",
    "m = np.full((3, 4), value)\n",
    "print(m)\n",
    "print(f\"Default data type = {m.dtype}\\n\")"
   ]
  },
  {
   "cell_type": "markdown",
   "id": "cca72fca",
   "metadata": {},
   "source": [
    "#### Numpy random module"
   ]
  },
  {
   "cell_type": "markdown",
   "id": "37f1889e",
   "metadata": {},
   "source": [
    "`np.random` is NumPy’s random number generation module, used for creating random numbers, arrays, distributions, shuffling, and more."
   ]
  },
  {
   "cell_type": "markdown",
   "id": "e7394d73",
   "metadata": {},
   "source": [
    "`np.random.rand()` gives random number between 0 & 1."
   ]
  },
  {
   "cell_type": "code",
   "execution_count": 8,
   "id": "3939cf5f",
   "metadata": {},
   "outputs": [
    {
     "name": "stdout",
     "output_type": "stream",
     "text": [
      "[[0.94236619 0.05570745 0.08391917 0.30121719]\n",
      " [0.38280329 0.03658042 0.75049842 0.90810242]\n",
      " [0.99987492 0.3210742  0.25675405 0.59817496]] \n",
      "\n",
      "[0.23206661 0.91664202 0.37978639] \n",
      "\n",
      "0.8269928871571377 \n",
      "\n"
     ]
    }
   ],
   "source": [
    "m = np.random.rand(3, 4) # gives a 2d array\n",
    "print(m, \"\\n\")\n",
    "m = np.random.rand(3) # gievs a 1d array\n",
    "print(m, \"\\n\")\n",
    "m = np.random.rand() # gives a scalar\n",
    "print(m, \"\\n\")"
   ]
  },
  {
   "cell_type": "markdown",
   "id": "6991209a",
   "metadata": {},
   "source": [
    "`np.random.randint()` gives random ints in given range."
   ]
  },
  {
   "cell_type": "code",
   "execution_count": 9,
   "id": "b11d58b8",
   "metadata": {},
   "outputs": [
    {
     "name": "stdout",
     "output_type": "stream",
     "text": [
      "[[1 6 4 5]\n",
      " [2 1 5 4]\n",
      " [1 4 1 2]] \n",
      "\n",
      "[1 2 4] \n",
      "\n",
      "5 \n",
      "\n"
     ]
    }
   ],
   "source": [
    "m = np.random.randint(1, 7, size=(3, 4)) # gives a 2d array\n",
    "print(m, \"\\n\")\n",
    "m = np.random.randint(1, 7, size=(3)) # gives a 1d array\n",
    "print(m, \"\\n\")\n",
    "m = np.random.randint(1, 7) # gives a scalar\n",
    "print(m, \"\\n\")"
   ]
  },
  {
   "cell_type": "markdown",
   "id": "42cff751",
   "metadata": {},
   "source": [
    "`np.random.choice()` picks random elements from given array (with or without replacements)."
   ]
  },
  {
   "cell_type": "code",
   "execution_count": 10,
   "id": "c0e9e58c",
   "metadata": {},
   "outputs": [
    {
     "name": "stdout",
     "output_type": "stream",
     "text": [
      "[29 41 38 44 98] \n",
      "\n",
      "[2 4 2 1 5] \n",
      "\n"
     ]
    }
   ],
   "source": [
    "m = np.random.choice(100, size=(5), replace=False)\n",
    "print(m, \"\\n\")\n",
    "m = np.random.choice([5, 2, 1, 4], size=(5), replace=True)\n",
    "print(m, \"\\n\")"
   ]
  },
  {
   "cell_type": "markdown",
   "id": "e06f21ea",
   "metadata": {},
   "source": [
    "## Making changes in array"
   ]
  },
  {
   "cell_type": "markdown",
   "id": "e51cde4c",
   "metadata": {},
   "source": [
    "#### Indexing in arrays"
   ]
  },
  {
   "cell_type": "code",
   "execution_count": 11,
   "id": "fe57bf21",
   "metadata": {},
   "outputs": [
    {
     "name": "stdout",
     "output_type": "stream",
     "text": [
      "[[11 12 13 14]\n",
      " [21 22 23 24]\n",
      " [31 32 33 34]] \n",
      "\n",
      "Dimensions of the array:  (3, 4)\n",
      "\n",
      "Using [i][j] notation\n",
      "11  12  13  14  \n",
      "21  22  23  24  \n",
      "31  32  33  34  \n",
      "\n",
      "Using [i, j] notation\n",
      "11  12  13  14  \n",
      "21  22  23  24  \n",
      "31  32  33  34  \n"
     ]
    }
   ],
   "source": [
    "arr = np.array(\n",
    "    [\n",
    "        [11, 12, 13, 14],\n",
    "        [21, 22, 23, 24],\n",
    "        [31, 32, 33, 34]\n",
    "    ]\n",
    ")\n",
    "print(arr, \"\\n\")\n",
    "\n",
    "print(\"Dimensions of the array: \",arr.shape) # (3, 4)\n",
    "\n",
    "# using indexing to print elements individually\n",
    "print(\"\\nUsing [i][j] notation\")\n",
    "for i in range (arr.shape[0]):\n",
    "    for j in range (arr.shape[1]):\n",
    "        print(arr[i][j], end = \"  \")\n",
    "    print(\"\")\n",
    "\n",
    "print(\"\\nUsing [i, j] notation\")\n",
    "for i in range (arr.shape[0]):\n",
    "    for j in range (arr.shape[1]):\n",
    "        print(arr[i, j], end = \"  \")\n",
    "    print(\"\")"
   ]
  },
  {
   "cell_type": "code",
   "execution_count": 12,
   "id": "b5ce6f78",
   "metadata": {},
   "outputs": [
    {
     "name": "stdout",
     "output_type": "stream",
     "text": [
      "[10 20 30 40 50 60 70 80 90]\n",
      "30\n",
      "30 40 50\n",
      "\n",
      "[30 40 50]\n",
      "[30 40 50 60 70 80 90]\n",
      "[10 20 30 40 50]\n",
      "[10 30 50 70]\n",
      "\n",
      "[10 20 30 40 50 60 70 80 90]\n",
      "[10 20 30 40 50 60 70 80 90]\n",
      "[90 80 70 60 50 40 30 20 10]\n"
     ]
    }
   ],
   "source": [
    "a = np.array([10, 20, 30, 40, 50, 60, 70, 80, 90])\n",
    "\n",
    "print(a)                # print the whole array\n",
    "print(a[2])             # print the 3rd element\n",
    "print(a[2], a[3], a[4]) # print the 3rd, 4th and 5th elements\n",
    "print()\n",
    "print(a[2:5])           # print a subarray having 3rd, 4th and 5th elements\n",
    "print(a[2:])            # print the 3rd and onwards\n",
    "print(a[:5])            # print the 1st, 2nd, 3rd, 4th and 5th element\n",
    "print(a[0:7:2])         # print the 1st, 3rd, 5th and 7th element\n",
    "print()\n",
    "print(a[:])             # print the whole array\n",
    "print(a[::])            # print the whole array\n",
    "print(a[::-1])          # print the whole array in reverse"
   ]
  },
  {
   "cell_type": "code",
   "execution_count": 13,
   "id": "e2eb8946",
   "metadata": {},
   "outputs": [
    {
     "name": "stdout",
     "output_type": "stream",
     "text": [
      "Dimensions of the array:  (5, 5)\n",
      "arr = \n",
      " [[11 12 13 14 15]\n",
      " [21 22 23 24 25]\n",
      " [31 32 33 34 35]\n",
      " [41 42 43 44 45]\n",
      " [51 52 53 54 55]]\n",
      "\n",
      "Printing Specific Rows\n",
      "[11 12 13 14 15]\n",
      "[31 32 33 34 35]\n",
      "\n",
      "Printing Specific Cols\n",
      "[11 21 31 41 51]\n",
      "[13 23 33 43 53]\n",
      "\n",
      "Printing Specific submatrices\n",
      "[[12 13]\n",
      " [22 23]]\n",
      "\n",
      "Printing Specific element\n",
      "34\n",
      "\n",
      "Printing Specific subarray\n",
      "[23 34 45]\n"
     ]
    }
   ],
   "source": [
    "arr = np.array(\n",
    "    [\n",
    "        [11, 12, 13, 14, 15],\n",
    "        [21, 22, 23, 24, 25],\n",
    "        [31, 32, 33, 34, 35],\n",
    "        [41, 42, 43, 44, 45],\n",
    "        [51, 52, 53, 54, 55],\n",
    "    ]\n",
    ")\n",
    "print(\"Dimensions of the array: \",arr.shape) # (5, 5)\n",
    "print(\"arr = \\n\", arr)\n",
    "\n",
    "# to get a specific row\n",
    "print(\"\\nPrinting Specific Rows\")\n",
    "print(arr[0])\n",
    "print(arr[2, :])\n",
    "\n",
    "# to get a specific column\n",
    "print(\"\\nPrinting Specific Cols\")\n",
    "print(arr[:, 0])\n",
    "print(arr[:, 2])\n",
    "\n",
    "# to get a specific sub-matrices\n",
    "print(\"\\nPrinting Specific submatrices\")\n",
    "print(arr[0:2, 1:3])\n",
    "\n",
    "# to get a specific element\n",
    "print(\"\\nPrinting Specific element\")\n",
    "print(arr[2, 3])\n",
    "\n",
    "# to get a specific elements\n",
    "print(\"\\nPrinting Specific subarray\")\n",
    "print(arr[[1, 2, 3], [2, 3, 4]])"
   ]
  },
  {
   "cell_type": "markdown",
   "id": "dd5c6f61",
   "metadata": {},
   "source": [
    "#### Making a copy of an array"
   ]
  },
  {
   "cell_type": "markdown",
   "id": "88187fce",
   "metadata": {},
   "source": [
    "There are two types of copies : Shallow Copy & Deep Copy\n",
    "\n",
    "- Shallow Copy: When two different variables point to the same memory location\n",
    "- Deep Copy: When two different variables point to different memory location"
   ]
  },
  {
   "cell_type": "code",
   "execution_count": 29,
   "id": "d8caef11",
   "metadata": {},
   "outputs": [
    {
     "name": "stdout",
     "output_type": "stream",
     "text": [
      "Before:\n",
      "og  = [0, 1, 2, 3, 4, 5]\n",
      "sh  = [0, 1, 2, 3, 4, 5]\n",
      "dp1 = [0, 1, 2, 3, 4, 5]\n",
      "dp2 = [0, 1, 2, 3, 4, 5]\n",
      "dp3 = [0, 1, 2, 3, 4, 5]\n",
      "\n",
      "After:\n",
      "og  = [0, 100, 200, 3, 4, 5]\n",
      "sh  = [0, 100, 200, 3, 4, 5]\n",
      "dp1 = [0, 1, 2, 300, 4, 5]\n",
      "dp2 = [0, 1, 2, 3, 400, 5]\n",
      "dp3 = [0, 1, 2, 3, 4, 500]\n"
     ]
    }
   ],
   "source": [
    "# Initializing lists\n",
    "og = [0, 1, 2, 3, 4, 5]\n",
    "\n",
    "sh = og             # this creates a shallow copy\n",
    "\n",
    "dp1 = og[:]         # this creates a deep copy\n",
    "\n",
    "dp2 = og.copy()     # this creates a deep copy\n",
    "dp3 = list(og)      # this creates a deep copy\n",
    "\n",
    "print(\"Before:\")\n",
    "print(f\"og  = {og}\")\n",
    "print(f\"sh  = {sh}\")\n",
    "print(f\"dp1 = {dp1}\")\n",
    "print(f\"dp2 = {dp2}\")\n",
    "print(f\"dp3 = {dp3}\")\n",
    "\n",
    "# making changes\n",
    "og[1] = 100\n",
    "sh[2] = 200\n",
    "dp1[3] = 300\n",
    "dp2[4] = 400\n",
    "dp3[5] = 500\n",
    "\n",
    "print(\"\\nAfter:\")\n",
    "print(f\"og  = {og}\")\n",
    "print(f\"sh  = {sh}\")\n",
    "print(f\"dp1 = {dp1}\")\n",
    "print(f\"dp2 = {dp2}\")\n",
    "print(f\"dp3 = {dp3}\")"
   ]
  },
  {
   "cell_type": "code",
   "execution_count": 30,
   "id": "c2c31237",
   "metadata": {},
   "outputs": [
    {
     "name": "stdout",
     "output_type": "stream",
     "text": [
      "Before:\n",
      "og  = [0 1 2 3 4 5]\n",
      "sh1 = [0 1 2 3 4 5]\n",
      "sh2 = [0 1 2 3 4 5]\n",
      "dp1 = [0 1 2 3 4 5]\n",
      "dp2 = [0 1 2 3 4 5]\n",
      "\n",
      "After:\n",
      "og  = [  0 100 200 300   4   5]\n",
      "sh1 = [  0 100 200 300   4   5]\n",
      "sh2 = [  0 100 200 300   4   5]\n",
      "dp1 = [  0   1   2   3 400   5]\n",
      "dp2 = [  0   1   2   3   4 500]\n"
     ]
    }
   ],
   "source": [
    "# Initializing arrays\n",
    "og = np.array([0, 1, 2, 3, 4, 5])\n",
    "\n",
    "sh1 = og            # this creates a shallow copy\n",
    "sh2 = og[:]         # this creates a shallow copy\n",
    "\n",
    "dp1 = og.copy()     # this creates a deep copy\n",
    "dp2 = np.array(og)  # this creates a deep copy\n",
    "\n",
    "print(\"Before:\")\n",
    "print(f\"og  = {og}\")\n",
    "print(f\"sh1 = {sh1}\")\n",
    "print(f\"sh2 = {sh2}\")\n",
    "print(f\"dp1 = {dp1}\")\n",
    "print(f\"dp2 = {dp2}\")\n",
    "\n",
    "# making changes\n",
    "og[1] = 100\n",
    "sh1[2] = 200\n",
    "sh2[3] = 300\n",
    "dp1[4] = 400\n",
    "dp2[5] = 500\n",
    "\n",
    "print(\"\\nAfter:\")\n",
    "print(f\"og  = {og}\")\n",
    "print(f\"sh1 = {sh1}\")\n",
    "print(f\"sh2 = {sh2}\")\n",
    "print(f\"dp1 = {dp1}\")\n",
    "print(f\"dp2 = {dp2}\")"
   ]
  },
  {
   "cell_type": "markdown",
   "id": "9e398635",
   "metadata": {},
   "source": [
    "#### Reshaping"
   ]
  },
  {
   "cell_type": "code",
   "execution_count": 16,
   "id": "33355218",
   "metadata": {},
   "outputs": [
    {
     "name": "stdout",
     "output_type": "stream",
     "text": [
      "[[6 1 8 0]\n",
      " [3 9 8 7]]\n",
      "shape = (2, 4)\n",
      "dim = 2\n",
      "\n",
      "[[6 1]\n",
      " [8 0]\n",
      " [3 9]\n",
      " [8 7]]\n",
      "shape = (4, 2)\n",
      "dim = 2\n",
      "\n",
      "[[6 1 8 0 3 9 8 7]]\n",
      "shape = (1, 8)\n",
      "dim = 2\n",
      "\n",
      "[[6]\n",
      " [1]\n",
      " [8]\n",
      " [0]\n",
      " [3]\n",
      " [9]\n",
      " [8]\n",
      " [7]]\n",
      "shape = (8, 1)\n",
      "dim = 2\n",
      "\n",
      "[6 1 8 0 3 9 8 7]\n",
      "shape = (8,)\n",
      "dim = 1\n",
      "\n",
      "[[[6 1]\n",
      "  [8 0]]\n",
      "\n",
      " [[3 9]\n",
      "  [8 7]]]\n",
      "shape = (2, 2, 2)\n",
      "dim = 3\n",
      "\n"
     ]
    }
   ],
   "source": [
    "a = [[6, 1, 8, 0], [3, 9, 8, 7]]\n",
    "# print(a)\n",
    "before = np.array(a)\n",
    "print(before)\n",
    "print(f\"shape = {before.shape}\\ndim = {before.ndim}\\n\")\n",
    "\n",
    "after = before.reshape((4,2)) # it is Not the same as transpose\n",
    "print(after)\n",
    "print(f\"shape = {after.shape}\\ndim = {after.ndim}\\n\")\n",
    "\n",
    "after = before.reshape((1, 8)) # it still is 2D\n",
    "print(after)\n",
    "print(f\"shape = {after.shape}\\ndim = {after.ndim}\\n\")\n",
    "\n",
    "after = before.reshape((8, 1)) # it still is 2D\n",
    "print(after)\n",
    "print(f\"shape = {after.shape}\\ndim = {after.ndim}\\n\")\n",
    "\n",
    "after = before.reshape((8,)) # now it is 1D\n",
    "print(after)\n",
    "print(f\"shape = {after.shape}\\ndim = {after.ndim}\\n\")\n",
    "\n",
    "after = before.reshape((2, 2, 2)) # now it is 3D\n",
    "print(after)\n",
    "print(f\"shape = {after.shape}\\ndim = {after.ndim}\\n\")\n",
    "\n",
    "# after = before.reshape((2, 3))\n",
    "# this causes error as the no of elements dont match"
   ]
  },
  {
   "cell_type": "markdown",
   "id": "97d8bf6d",
   "metadata": {},
   "source": [
    "## Doing mathematical operations in NumPy Arrays"
   ]
  },
  {
   "cell_type": "markdown",
   "id": "61ada393",
   "metadata": {},
   "source": [
    "#### Elementwise Operations"
   ]
  },
  {
   "cell_type": "code",
   "execution_count": 17,
   "id": "97c08ed5",
   "metadata": {},
   "outputs": [
    {
     "name": "stdout",
     "output_type": "stream",
     "text": [
      "[1 2 3 4]\n",
      "[1 2 3 4] + 2 =  [3 4 5 6]\n",
      "[1 2 3 4] - 2 =  [-1  0  1  2]\n",
      "[1 2 3 4] * 2 =  [2 4 6 8]\n",
      "[1 2 3 4] / 2 =  [0.5 1.  1.5 2. ]\n",
      "[1 2 3 4] % 2 =  [1 0 1 0]\n",
      "[1 2 3 4] // 2 =  [0 1 1 2]\n",
      "[1 2 3 4] ** 2 =  [ 1  4  9 16]\n"
     ]
    }
   ],
   "source": [
    "# array with scalar\n",
    "a = np.array([1, 2, 3, 4])\n",
    "print(a)\n",
    "print(a, \"+ 2 = \", a + 2)\n",
    "print(a, \"- 2 = \", a - 2)\n",
    "print(a, \"* 2 = \", a * 2)\n",
    "print(a, \"/ 2 = \", a / 2)\n",
    "print(a, \"% 2 = \", a % 2)\n",
    "print(a, \"// 2 = \", a // 2)\n",
    "print(a, \"** 2 = \", a ** 2)"
   ]
  },
  {
   "cell_type": "code",
   "execution_count": 18,
   "id": "77e84a73",
   "metadata": {},
   "outputs": [
    {
     "name": "stdout",
     "output_type": "stream",
     "text": [
      "[1 2 3 4]  +  [1 2 2 1]  =  [2 4 5 5]\n",
      "[1 2 3 4]  -  [1 2 2 1]  =  [0 0 1 3]\n",
      "[1 2 3 4]  *  [1 2 2 1]  =  [1 4 6 4]\n",
      "[1 2 3 4]  /  [1 2 2 1]  =  [1.  1.  1.5 4. ]\n"
     ]
    }
   ],
   "source": [
    "# array with array\n",
    "a = np.array([1, 2, 3, 4])\n",
    "b = np.array([1, 2, 2, 1])\n",
    "print(a, \" + \", b, \" = \", a + b)\n",
    "print(a, \" - \", b, \" = \", a - b)\n",
    "print(a, \" * \", b, \" = \", a * b)\n",
    "print(a, \" / \", b, \" = \", a / b)"
   ]
  },
  {
   "cell_type": "markdown",
   "id": "5c83e24d",
   "metadata": {},
   "source": [
    "#### Boolean Operations"
   ]
  },
  {
   "cell_type": "code",
   "execution_count": 19,
   "id": "09087bb2",
   "metadata": {},
   "outputs": [
    {
     "name": "stdout",
     "output_type": "stream",
     "text": [
      "[[6 1 8]\n",
      " [3 9 8]\n",
      " [5 2 1]] \n",
      "\n",
      "[[False  True False]\n",
      " [ True False False]\n",
      " [False  True  True]]\n"
     ]
    }
   ],
   "source": [
    "a = np.array([[6, 1, 8], [3, 9, 8], [5, 2, 1]])\n",
    "print(a, \"\\n\")\n",
    "\n",
    "print(a < 5)"
   ]
  },
  {
   "cell_type": "code",
   "execution_count": 20,
   "id": "adf17035",
   "metadata": {},
   "outputs": [
    {
     "name": "stdout",
     "output_type": "stream",
     "text": [
      "[[6 1 8]\n",
      " [3 9 8]\n",
      " [5 2 1]] \n",
      "\n",
      "[1 3 2 1]\n",
      "\n",
      "[]\n"
     ]
    }
   ],
   "source": [
    "a = np.array([[6, 1, 8], [3, 9, 8], [5, 2, 1]])\n",
    "print(a, \"\\n\")\n",
    "print(a[a < 5]) # print all elements of `a` which are less than 5\n",
    "print()\n",
    "print(a[a > 10]) # print all elements of `a` which are greater than or equal to 5"
   ]
  },
  {
   "cell_type": "code",
   "execution_count": 21,
   "id": "9b19ecf3",
   "metadata": {},
   "outputs": [
    {
     "name": "stdout",
     "output_type": "stream",
     "text": [
      "[[6 1 8]\n",
      " [3 9 8]\n",
      " [5 2 1]] \n",
      "\n",
      "True \n",
      "\n",
      "[False  True  True] \n",
      "\n",
      "[ True  True False] \n",
      "\n"
     ]
    }
   ],
   "source": [
    "print(a, \"\\n\")\n",
    "\n",
    "# check for whole nd array\n",
    "print(np.any(a >= 8), \"\\n\")\n",
    "\n",
    "# check in particular axis\n",
    "print(np.any(a >= 8, axis = 0), \"\\n\") # 0 means column\n",
    "print(np.any(a >= 8, axis = 1), \"\\n\") # 1 means row"
   ]
  },
  {
   "cell_type": "code",
   "execution_count": 22,
   "id": "20264f3f",
   "metadata": {},
   "outputs": [
    {
     "name": "stdout",
     "output_type": "stream",
     "text": [
      "[[6 1 8]\n",
      " [3 9 8]\n",
      " [5 2 1]] \n",
      "\n",
      "False \n",
      "\n",
      "[ True False False] \n",
      "\n",
      "[False  True False] \n",
      "\n"
     ]
    }
   ],
   "source": [
    "print(a, \"\\n\")\n",
    "\n",
    "# check for whole nd array\n",
    "print(np.all(a >= 3), \"\\n\")\n",
    "\n",
    "# check in particular axis\n",
    "print(np.all(a >= 3, axis = 0), \"\\n\") # 0 means column\n",
    "print(np.all(a >= 3, axis = 1), \"\\n\") # 1 means row"
   ]
  },
  {
   "cell_type": "code",
   "execution_count": 23,
   "id": "25cdf934",
   "metadata": {},
   "outputs": [
    {
     "name": "stdout",
     "output_type": "stream",
     "text": [
      "(array([1, 3]),)\n",
      "[10 20 30  4  5]\n",
      "[0 0 2 0 4]\n"
     ]
    }
   ],
   "source": [
    "a = np.array([1, 2, 3, 4, 5])\n",
    "indices = np.where(a % 2 == 0)\n",
    "print(indices)\n",
    "\n",
    "a = np.array([ 1,  2,  3,  4,  5])\n",
    "b = np.array([10, 20, 30, 40, 50])\n",
    "result = np.where(a > 3, a, b) # WHERE (a > 3), pick elements from a ELSE, pick elements from b.\n",
    "print(result)\n",
    "\n",
    "a = np.array([0, -1, 2, -3, 4])\n",
    "cleaned = np.where(a > 0, a, 0) # WHERE (a > 0), pick elements from a ELSE, pick 0.\n",
    "print(cleaned)"
   ]
  },
  {
   "cell_type": "markdown",
   "id": "6ba2fb05",
   "metadata": {},
   "source": [
    "#### Statistical Operation"
   ]
  },
  {
   "cell_type": "code",
   "execution_count": 24,
   "id": "217c4d11",
   "metadata": {},
   "outputs": [
    {
     "name": "stdout",
     "output_type": "stream",
     "text": [
      "[[6 1 8 0]\n",
      " [3 9 8 7]] \n",
      "\n",
      "0\n",
      "[3 1 8 0]\n",
      "[0 3] \n",
      "\n",
      "9\n",
      "[6 9 8 7]\n",
      "[8 9] \n",
      "\n",
      "42\n",
      "[ 9 10 16  7]\n",
      "[15 27] \n",
      "\n"
     ]
    }
   ],
   "source": [
    "stats = np.array([[6, 1, 8, 0], [3, 9, 8, 7]])\n",
    "print(stats, \"\\n\")\n",
    "\n",
    "print(np.min(stats))\n",
    "print(np.min(stats, axis = 0))\n",
    "print(np.min(stats, axis = 1), \"\\n\")\n",
    "\n",
    "print(np.max(stats))\n",
    "print(np.max(stats, axis = 0))\n",
    "print(np.max(stats, axis = 1), \"\\n\")\n",
    "\n",
    "print(np.sum(stats))\n",
    "print(np.sum(stats, axis = 0))\n",
    "print(np.sum(stats, axis = 1), \"\\n\")\n"
   ]
  }
 ],
 "metadata": {
  "kernelspec": {
   "display_name": "Python 3",
   "language": "python",
   "name": "python3"
  },
  "language_info": {
   "codemirror_mode": {
    "name": "ipython",
    "version": 3
   },
   "file_extension": ".py",
   "mimetype": "text/x-python",
   "name": "python",
   "nbconvert_exporter": "python",
   "pygments_lexer": "ipython3",
   "version": "3.13.2"
  }
 },
 "nbformat": 4,
 "nbformat_minor": 5
}
