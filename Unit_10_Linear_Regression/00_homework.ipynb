{
 "cells": [
  {
   "cell_type": "markdown",
   "id": "2399cb22",
   "metadata": {},
   "source": [
    "---\n",
    "**Iris Flower Dataset**\n",
    "\n",
    "The `Iris flower dataset`, also known as Fisher's Iris data set, is a classic data set famous in statistics and machine learning. It was developed by Ronald Fisher in 1936, based on data collected by Edgar Anderson.\n",
    "\n",
    "The data set includes 50 samples each for three species of the Iris flower:\n",
    "- `Iris setosa`\n",
    "- `Iris versicolor`\n",
    "- `Iris virginica`\n",
    "\n",
    "For each sample, four features were measured in centimeters:\n",
    "- `sepal length`\n",
    "- `sepal width`\n",
    "- `petal length`\n",
    "- `petal width`\n",
    "\n",
    "You can use this dataset by importing it from sklearn.datasets"
   ]
  },
  {
   "cell_type": "code",
   "execution_count": null,
   "id": "bffa81f3",
   "metadata": {},
   "outputs": [
    {
     "name": "stdout",
     "output_type": "stream",
     "text": [
      "type(iris) = <class 'sklearn.utils._bunch.Bunch'>\n",
      "\n",
      "Dataset features: ['sepal length (cm)', 'sepal width (cm)', 'petal length (cm)', 'petal width (cm)']\n",
      "\n",
      "Target Species  : ['setosa' 'versicolor' 'virginica']\n",
      "\n",
      "Data:\n",
      "[[5.1 3.5 1.4 0.2]\n",
      " [4.9 3.  1.4 0.2]\n",
      " [4.7 3.2 1.3 0.2]\n",
      " [4.6 3.1 1.5 0.2]\n",
      " [5.  3.6 1.4 0.2]\n",
      " [5.4 3.9 1.7 0.4]\n",
      " [4.6 3.4 1.4 0.3]\n",
      " [5.  3.4 1.5 0.2]\n",
      " [4.4 2.9 1.4 0.2]\n",
      " [4.9 3.1 1.5 0.1]]\n",
      "\n",
      "Species:\n",
      "[0 0 0 0 0 0 0 0 0 0]\n",
      "\n"
     ]
    }
   ],
   "source": [
    "from sklearn.datasets import load_iris\n",
    "import pandas as pd\n",
    "\n",
    "# Load the dataset\n",
    "iris = load_iris()\n",
    "print(f\"{type(iris) = }\\n\")\n",
    "print(f\"Dataset features: {iris.feature_names}\\n\") # Features names\n",
    "print(f\"Target Species  : {iris.target_names}\\n\")  # Species names\n",
    "print(f\"Data:\\n{iris.data[0:10]}\\n\")  # Species names\n",
    "print(f\"Species:\\n{iris.target[0:10]}\\n\")"
   ]
  },
  {
   "cell_type": "markdown",
   "id": "35e217c0",
   "metadata": {},
   "source": [
    "---\n",
    "Data about the flower is divided in two categories:\n",
    "```\n",
    "- `features` : [sepal length, sepal width, petal length, petal width]\n",
    "- `target`  :  [species]\n",
    "```\n",
    "\n",
    "Lets combine them and convert them into a single dataframe."
   ]
  },
  {
   "cell_type": "code",
   "execution_count": 34,
   "id": "6bc896fb",
   "metadata": {},
   "outputs": [
    {
     "name": "stdout",
     "output_type": "stream",
     "text": [
      "type(iris_df) = <class 'pandas.core.frame.DataFrame'>\n",
      "\n",
      "Dataset size = 150 rows & 5 columns.\n",
      "50 of these rows are for Iris setosa, 50 are for Iris versicolor, 50 are for Iris virginica\n"
     ]
    },
    {
     "data": {
      "text/html": [
       "<div>\n",
       "<style scoped>\n",
       "    .dataframe tbody tr th:only-of-type {\n",
       "        vertical-align: middle;\n",
       "    }\n",
       "\n",
       "    .dataframe tbody tr th {\n",
       "        vertical-align: top;\n",
       "    }\n",
       "\n",
       "    .dataframe thead th {\n",
       "        text-align: right;\n",
       "    }\n",
       "</style>\n",
       "<table border=\"1\" class=\"dataframe\">\n",
       "  <thead>\n",
       "    <tr style=\"text-align: right;\">\n",
       "      <th></th>\n",
       "      <th>sepal length (cm)</th>\n",
       "      <th>sepal width (cm)</th>\n",
       "      <th>petal length (cm)</th>\n",
       "      <th>petal width (cm)</th>\n",
       "      <th>species</th>\n",
       "    </tr>\n",
       "  </thead>\n",
       "  <tbody>\n",
       "    <tr>\n",
       "      <th>0</th>\n",
       "      <td>5.1</td>\n",
       "      <td>3.5</td>\n",
       "      <td>1.4</td>\n",
       "      <td>0.2</td>\n",
       "      <td>setosa</td>\n",
       "    </tr>\n",
       "    <tr>\n",
       "      <th>1</th>\n",
       "      <td>4.9</td>\n",
       "      <td>3.0</td>\n",
       "      <td>1.4</td>\n",
       "      <td>0.2</td>\n",
       "      <td>setosa</td>\n",
       "    </tr>\n",
       "    <tr>\n",
       "      <th>2</th>\n",
       "      <td>4.7</td>\n",
       "      <td>3.2</td>\n",
       "      <td>1.3</td>\n",
       "      <td>0.2</td>\n",
       "      <td>setosa</td>\n",
       "    </tr>\n",
       "    <tr>\n",
       "      <th>3</th>\n",
       "      <td>4.6</td>\n",
       "      <td>3.1</td>\n",
       "      <td>1.5</td>\n",
       "      <td>0.2</td>\n",
       "      <td>setosa</td>\n",
       "    </tr>\n",
       "    <tr>\n",
       "      <th>4</th>\n",
       "      <td>5.0</td>\n",
       "      <td>3.6</td>\n",
       "      <td>1.4</td>\n",
       "      <td>0.2</td>\n",
       "      <td>setosa</td>\n",
       "    </tr>\n",
       "  </tbody>\n",
       "</table>\n",
       "</div>"
      ],
      "text/plain": [
       "   sepal length (cm)  sepal width (cm)  petal length (cm)  petal width (cm)  \\\n",
       "0                5.1               3.5                1.4               0.2   \n",
       "1                4.9               3.0                1.4               0.2   \n",
       "2                4.7               3.2                1.3               0.2   \n",
       "3                4.6               3.1                1.5               0.2   \n",
       "4                5.0               3.6                1.4               0.2   \n",
       "\n",
       "  species  \n",
       "0  setosa  \n",
       "1  setosa  \n",
       "2  setosa  \n",
       "3  setosa  \n",
       "4  setosa  "
      ]
     },
     "execution_count": 34,
     "metadata": {},
     "output_type": "execute_result"
    }
   ],
   "source": [
    "# Convert the dataset into a dataframe\n",
    "iris_df = pd.DataFrame(data=iris.data, columns=iris.feature_names)\n",
    "iris_df['species'] = pd.Categorical.from_codes(iris.target, iris.target_names)\n",
    "print(f\"{type(iris_df) = }\\n\")\n",
    "print(f\"Dataset size = {iris_df.shape[0]} rows & {iris_df.shape[1]} columns.\")\n",
    "print(f\"50 of these rows are for Iris setosa, 50 are for Iris versicolor, 50 are for Iris virginica\")\n",
    "iris_df.head()"
   ]
  },
  {
   "cell_type": "markdown",
   "id": "10c6eee2",
   "metadata": {},
   "source": [
    "---\n",
    "1. Create a new dataframe having data only for `iris setosa`"
   ]
  },
  {
   "cell_type": "code",
   "execution_count": null,
   "id": "d8e53576",
   "metadata": {},
   "outputs": [],
   "source": [
    "# write your code here\n",
    "\n",
    "iris_setosa_df = None\n",
    "iris_setosa_df.head()"
   ]
  },
  {
   "cell_type": "markdown",
   "id": "8d26cb24",
   "metadata": {},
   "source": [
    "---\n",
    "2. Make two numpy arrays -\n",
    "- first having `sepal lengths` of iris setosa\n",
    "- second having `sepal widths` of iris setosa"
   ]
  },
  {
   "cell_type": "code",
   "execution_count": null,
   "id": "d9387344",
   "metadata": {},
   "outputs": [],
   "source": [
    "# write your code here\n",
    "import numpy as np\n",
    "\n",
    "setosa_sepal_length = np.array()\n",
    "setosa_sepal_width  = np.array()"
   ]
  },
  {
   "cell_type": "markdown",
   "id": "0011e77b",
   "metadata": {},
   "source": [
    "---\n",
    "3. Plot a scatter plot having -\n",
    "- X = `setosa_sepal_length`\n",
    "- Y = `setosa_sepal_width`"
   ]
  },
  {
   "cell_type": "code",
   "execution_count": null,
   "id": "0f33b746",
   "metadata": {},
   "outputs": [],
   "source": [
    "# write your code here\n",
    "import matplotlib.pyplot as plt\n",
    "\n",
    "plt.scatter()\n",
    "plt.show()"
   ]
  },
  {
   "cell_type": "markdown",
   "id": "8821db61",
   "metadata": {},
   "source": [
    "---\n",
    "4. Explain with reasoning, if it's a nice idea to use a linear regression model to predict the sepal width of an iris setosa flower given its sepal length."
   ]
  }
 ],
 "metadata": {
  "kernelspec": {
   "display_name": "Python 3",
   "language": "python",
   "name": "python3"
  },
  "language_info": {
   "codemirror_mode": {
    "name": "ipython",
    "version": 3
   },
   "file_extension": ".py",
   "mimetype": "text/x-python",
   "name": "python",
   "nbconvert_exporter": "python",
   "pygments_lexer": "ipython3",
   "version": "3.13.2"
  }
 },
 "nbformat": 4,
 "nbformat_minor": 5
}
