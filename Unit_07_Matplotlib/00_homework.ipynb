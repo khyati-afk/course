{
 "cells": [
  {
   "cell_type": "code",
   "execution_count": null,
   "id": "66e687fd",
   "metadata": {},
   "outputs": [],
   "source": [
    "import numpy as np\n",
    "import pandas as pd\n",
    "import matplotlib.pyplot as plt"
   ]
  },
  {
   "cell_type": "markdown",
   "id": "207be503",
   "metadata": {},
   "source": [
    "## Plotting graphs for `pokedex.csv`"
   ]
  },
  {
   "cell_type": "code",
   "execution_count": 4,
   "id": "a08745a9",
   "metadata": {},
   "outputs": [],
   "source": [
    "pokedex = pd.read_csv(\"pokedex.csv\")"
   ]
  },
  {
   "cell_type": "markdown",
   "id": "5fdc0a9f",
   "metadata": {},
   "source": [
    "#### 1. Plot a bargraph having bars representing the count of pokemon for each pokemon type (Grass, Fire, etc). Since Charizard is a Fire+Flying type, it will be counted in both the categories and so on."
   ]
  },
  {
   "cell_type": "code",
   "execution_count": null,
   "id": "7e7af6be",
   "metadata": {},
   "outputs": [],
   "source": []
  },
  {
   "cell_type": "markdown",
   "id": "ffb5aede",
   "metadata": {},
   "source": [
    "#### 2. Take `X-axis` as `[phAtk + spAtk]`, `Y-axis` as `[phDef + spDef]`. Then use scatter plot to plot all `Water` pokemon as `Blue` points and all `Fire` pokemon as `Red` points"
   ]
  },
  {
   "cell_type": "code",
   "execution_count": null,
   "id": "39a03081",
   "metadata": {},
   "outputs": [],
   "source": []
  },
  {
   "cell_type": "markdown",
   "id": "d31bdf76",
   "metadata": {},
   "source": [
    "#### 3. Ask the user to enter a pokemon name. If that name exists in your data frame show the stats of the pokemon using a horizontal bar graph."
   ]
  },
  {
   "cell_type": "code",
   "execution_count": null,
   "id": "63dfef39",
   "metadata": {},
   "outputs": [],
   "source": []
  },
  {
   "cell_type": "markdown",
   "id": "4a645fb9",
   "metadata": {},
   "source": [
    "#### 4. Use a histogram to show the count of the pokemon for different intervals for BST values. Take [0-50, 50-100, ..., 600-650, 650-700] as the intervals."
   ]
  },
  {
   "cell_type": "code",
   "execution_count": null,
   "id": "fea4cf51",
   "metadata": {},
   "outputs": [],
   "source": []
  },
  {
   "cell_type": "markdown",
   "id": "6d8f42b2",
   "metadata": {},
   "source": [
    "## Plotting graphs for `expenses.csv`"
   ]
  },
  {
   "cell_type": "code",
   "execution_count": null,
   "id": "cd0f7bbd",
   "metadata": {},
   "outputs": [],
   "source": [
    "expenses = pd.read_csv(\"expenses.csv\")"
   ]
  },
  {
   "cell_type": "markdown",
   "id": "adfca972",
   "metadata": {},
   "source": [
    "#### 1. Plot a piechart to show category wise expenses"
   ]
  },
  {
   "cell_type": "code",
   "execution_count": null,
   "id": "01822418",
   "metadata": {},
   "outputs": [],
   "source": []
  },
  {
   "cell_type": "markdown",
   "id": "d595c999",
   "metadata": {},
   "source": [
    "#### 2. Plot a bargraph to show month wise expenses"
   ]
  },
  {
   "cell_type": "code",
   "execution_count": null,
   "id": "07012a60",
   "metadata": {},
   "outputs": [],
   "source": []
  },
  {
   "cell_type": "markdown",
   "id": "f48f48b5",
   "metadata": {},
   "source": [
    "#### 3. Ask the user to enter 2 months and then plot a double bar graph for each catergory in those 2 months."
   ]
  },
  {
   "cell_type": "code",
   "execution_count": null,
   "id": "1b7a60b8",
   "metadata": {},
   "outputs": [],
   "source": []
  },
  {
   "cell_type": "markdown",
   "id": "d5792186",
   "metadata": {},
   "source": [
    "#### 4. Plot a stacked bar plot to compare the category wise breakdown of expense for each month"
   ]
  },
  {
   "cell_type": "code",
   "execution_count": null,
   "id": "ab73e3c4",
   "metadata": {},
   "outputs": [],
   "source": []
  }
 ],
 "metadata": {
  "kernelspec": {
   "display_name": "Python 3",
   "language": "python",
   "name": "python3"
  },
  "language_info": {
   "codemirror_mode": {
    "name": "ipython",
    "version": 3
   },
   "file_extension": ".py",
   "mimetype": "text/x-python",
   "name": "python",
   "nbconvert_exporter": "python",
   "pygments_lexer": "ipython3",
   "version": "3.13.2"
  }
 },
 "nbformat": 4,
 "nbformat_minor": 5
}
