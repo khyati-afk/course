{
 "cells": [
  {
   "cell_type": "markdown",
   "id": "23c5d86e",
   "metadata": {},
   "source": [
    "## Chatbot version 1 - simple dictionary queries"
   ]
  },
  {
   "cell_type": "markdown",
   "id": "8703bb1a",
   "metadata": {},
   "source": [
    "- this chatbot uses a dictionary of predefined question-answer pairs.\n",
    "- when the user enters a query it check if that corresponds with any key in our dictionary.\n",
    "    - if the user enter \"bye\", the program stops.\n",
    "    - else if a match is found it returns the corresponding answer value as the response.\n",
    "    - else if no exact match is found it responds with a predefined default response.\n",
    "- the entire logic is written inside a while loop for continuous conversation"
   ]
  },
  {
   "cell_type": "code",
   "execution_count": 7,
   "id": "e638cfe3",
   "metadata": {},
   "outputs": [
    {
     "name": "stdout",
     "output_type": "stream",
     "text": [
      "Hello, how can I help you?\n",
      "good to hear.\n",
      "what's bothering you?\n",
      "sorry I didn't get you.\n",
      "bye!\n"
     ]
    }
   ],
   "source": [
    "knowledge = {\n",
    "    'i am happy' : 'good to hear.',\n",
    "    'i am sad' : 'what\\'s bothering you?',\n",
    "    'default' : 'sorry I didn\\'t get you.'\n",
    "}\n",
    "\n",
    "print(\"Hello, how can I help you?\")\n",
    "while (True):\n",
    "    query = input(\"Enter your question: \")\n",
    "    if (query == 'bye'):\n",
    "        print('bye!')\n",
    "        break\n",
    "    elif(query in knowledge):\n",
    "        print(knowledge[query])\n",
    "    else:\n",
    "        print(knowledge['default'])"
   ]
  },
  {
   "cell_type": "markdown",
   "id": "302dae0b",
   "metadata": {},
   "source": [
    "## Chatbot version 2 - using string methods"
   ]
  },
  {
   "cell_type": "markdown",
   "id": "c1656cd5",
   "metadata": {},
   "source": [
    "flaws in prev version:\n",
    "- unable to find a match if not in proper case.\n",
    "- unable to remove extra whitespaces.\n",
    "\n",
    "why this version is better\n",
    "- this version has everything what the prev version had.\n",
    "- it formats the given query string in a proper format before finding a match for better results, that includes:\n",
    "    - case standardization.\n",
    "    - removal of extra white spaces."
   ]
  },
  {
   "cell_type": "code",
   "execution_count": 8,
   "id": "5e3d45ee",
   "metadata": {},
   "outputs": [
    {
     "name": "stdout",
     "output_type": "stream",
     "text": [
      "Hello, how can I help you?\n",
      "good to hear.\n",
      "what's bothering you?\n",
      "sorry I didn't get you.\n",
      "bye!\n"
     ]
    }
   ],
   "source": [
    "from re import sub\n",
    "\n",
    "knowledge = {\n",
    "    'i am happy' : 'good to hear.',\n",
    "    'i am sad' : 'what\\'s bothering you?',\n",
    "    'default' : 'sorry I didn\\'t get you.'\n",
    "}\n",
    "\n",
    "print(\"Hello, how can I help you?\")\n",
    "while True:\n",
    "    query = input(\"Enter your question: \").strip().lower()\n",
    "    query = sub(r'\\s+', ' ', query)\n",
    "\n",
    "    if (query == 'bye'):\n",
    "        print('bye!')\n",
    "        break\n",
    "    elif(query in knowledge):\n",
    "        print(knowledge[query])\n",
    "    else:\n",
    "        print(knowledge['default'])"
   ]
  },
  {
   "cell_type": "markdown",
   "id": "0d79fe21",
   "metadata": {},
   "source": [
    "## Chatbot version 3 - using similarity metrics"
   ]
  },
  {
   "cell_type": "markdown",
   "id": "cca675f6",
   "metadata": {},
   "source": [
    "flaws in prev version:\n",
    "- unable to find the match if the two sentences aren't the exact sequences of words.\n",
    "\n",
    "why this version is better\n",
    "- this version has everything what the prev version had.\n",
    "- it uses similarity metrics to find the similarity between the two sentences even if they aren't the exact sequences of words, using either of the:\n",
    "    - manhattan distane or\n",
    "    - euclidean distane"
   ]
  },
  {
   "cell_type": "code",
   "execution_count": 9,
   "id": "5eb99c5b",
   "metadata": {},
   "outputs": [],
   "source": [
    "def manhattan_distance(doc1, doc2): # these docs should be lists of words\n",
    "    vocab = []\n",
    "    for word in doc1:\n",
    "        if (word not in vocab):\n",
    "            vocab.append(word)\n",
    "    for word in doc2:\n",
    "        if (word not in vocab):\n",
    "            vocab.append(word)\n",
    "    # print(vocab)\n",
    "    vec1 = []\n",
    "    vec2 = []\n",
    "    for word in vocab:\n",
    "        vec1.append(doc1.count(word))\n",
    "        vec2.append(doc2.count(word))\n",
    "    # print(vec1)\n",
    "    # print(vec2)\n",
    "    distance = 0\n",
    "    for i in range(len(vocab)):\n",
    "        distance += abs(vec1[i] - vec2[i])\n",
    "    return distance"
   ]
  },
  {
   "cell_type": "code",
   "execution_count": 10,
   "id": "2d6ade15",
   "metadata": {},
   "outputs": [],
   "source": [
    "def euclidean_distance(doc1, doc2): # these docs should be lists of words\n",
    "    vocab = []\n",
    "    for word in doc1:\n",
    "        if (word not in vocab):\n",
    "            vocab.append(word)\n",
    "    for word in doc2:\n",
    "        if (word not in vocab):\n",
    "            vocab.append(word)\n",
    "    # print(vocab)\n",
    "    vec1 = []\n",
    "    vec2 = []\n",
    "    for word in vocab:\n",
    "        vec1.append(doc1.count(word))\n",
    "        vec2.append(doc2.count(word))\n",
    "    # print(vec1)\n",
    "    # print(vec2)\n",
    "    distance = 0\n",
    "    for i in range(len(vocab)):\n",
    "        distance += (vec1[i] - vec2[i]) ** 2\n",
    "    return distance ** (1/2)"
   ]
  },
  {
   "cell_type": "code",
   "execution_count": 11,
   "id": "a88c3120",
   "metadata": {},
   "outputs": [
    {
     "name": "stdout",
     "output_type": "stream",
     "text": [
      "Hello, how can I help you?\n",
      "Feeling lonely can be tough.\n",
      "I'm sorry to hear that. What's bothering you?\n",
      "I'm sorry to hear that. What's bothering you?\n",
      "Feeling lonely can be tough.\n",
      "bye!\n"
     ]
    }
   ],
   "source": [
    "knowledge = {\n",
    "    \"how are you\": \"I'm fine. How are you?\",\n",
    "    \"i feel sad\": \"I'm sorry to hear that. What's bothering you?\",\n",
    "    \"i am lonely\": \"Feeling lonely can be tough.\",\n",
    "    \"i'm stressed\": \"What's been stressing you out?\",\n",
    "    \"i feel lost\": \"It's okay to feel lost sometimes.\",\n",
    "    \"i need someone to talk to\": \"Tell me what's on your mind, and I'll listen.\",\n",
    "    \"i feel worthless\": \"Can you share more about what's making you feel this way?\",\n",
    "    \"i can't sleep\": \"Have you tried deep breathing or listening to soothing music before bed?\",\n",
    "    \"i feel hopeless\": \"Would you like to talk about what's causing these feelings?\",\n",
    "    \"i feel angry\": \"Anger can be intense. Do you want to talk about what's making you angry?\",\n",
    "    \"i need motivation\": \"Starting small and celebrating small wins can make a big difference.\",\n",
    "    \"i feel empty\": \"Sometimes, connecting with loved ones or engaging in hobbies can help.\",\n",
    "    \"i'm nervous\": \"Try focusing on your breathing or thinking about something that makes you happy.\",\n",
    "    \"i don't know what to do\": \"Let's break it down together. What's been on your mind?\",\n",
    "    \"default\":\"Sorry I didn't get you\"\n",
    "}\n",
    "\n",
    "print(\"Hello, how can I help you?\")\n",
    "while True:\n",
    "    query = input(\"Enter your question: \").lower()\n",
    "    query = query.split()\n",
    "    if(query[0] == 'bye'):\n",
    "        print('bye!')\n",
    "        break\n",
    "    \n",
    "    closest_key = \"default\"\n",
    "    closest_dist= 10 # set this value accordingly\n",
    "\n",
    "    for key in knowledge:\n",
    "        dist = manhattan_distance(query, key.split()) # change to `euclidean_distance()` if you want to use that\n",
    "        if(dist < closest_dist):\n",
    "            closest_dist = dist\n",
    "            closest_key = key\n",
    "\n",
    "    print(knowledge[closest_key])   "
   ]
  },
  {
   "cell_type": "markdown",
   "id": "ecf3572d",
   "metadata": {},
   "source": [
    "## Chatbot version 4 - using weights"
   ]
  },
  {
   "cell_type": "markdown",
   "id": "08b06fe8",
   "metadata": {},
   "source": [
    "flaws in prev version:\n",
    "- considers each words presence or absence equally.\n",
    "- doesn't assign any weight to words which are more important.\n",
    "\n",
    "why this version is better\n",
    "- this version has everything what the prev version had.\n",
    "- it uses weighted similarity metrics to find the similarity between the two sentences while also assigning different weights to different words based on their importance."
   ]
  },
  {
   "cell_type": "code",
   "execution_count": 12,
   "id": "0612f46b",
   "metadata": {},
   "outputs": [],
   "source": [
    "knowledge = {\n",
    "    \"how are you\": \"I'm fine. How are you?\",\n",
    "    \"i feel sad\": \"I'm sorry to hear that. What's bothering you?\",\n",
    "    \"i am lonely\": \"Feeling lonely can be tough.\",\n",
    "    \"i'm stressed\": \"What's been stressing you out?\",\n",
    "    \"i feel lost\": \"It's okay to feel lost sometimes.\",\n",
    "    \"i need someone to talk to\": \"Tell me what's on your mind, and I'll listen.\",\n",
    "    \"i feel worthless\": \"Can you share more about what's making you feel this way?\",\n",
    "    \"i can't sleep\": \"Have you tried deep breathing or listening to soothing music before bed?\",\n",
    "    \"i feel hopeless\": \"Would you like to talk about what's causing these feelings?\",\n",
    "    \"i feel angry\": \"Anger can be intense. Do you want to talk about what's making you angry?\",\n",
    "    \"i need motivation\": \"Starting small and celebrating small wins can make a big difference.\",\n",
    "    \"i feel empty\": \"Sometimes, connecting with loved ones or engaging in hobbies can help.\",\n",
    "    \"i'm nervous\": \"Try focusing on your breathing or thinking about something that makes you happy.\",\n",
    "    \"i don't know what to do\": \"Let's break it down together. What's been on your mind?\",\n",
    "    \"default\":\"Sorry I didn't get you\"\n",
    "}\n",
    "\n",
    "# vocab = []\n",
    "# for key in knowledge:\n",
    "#   wordList = key.split()\n",
    "#   for word in wordList:\n",
    "#     if word not in vocab:\n",
    "#       vocab.append(word)\n",
    "# print(\"{\", end=\" \")\n",
    "# for word in vocab:\n",
    "#   print(f\"\\\"{word}\\\" : 1\", end=\", \")\n",
    "# print(\"}\")\n",
    "\n",
    "weights = {'how':1, 'are':1, 'you':1, 'i':1, 'feel':2, 'sad':5, 'am':1, 'lonely':5, \"i'm\":1, 'stressed':5, 'lost':5,\n",
    "           'need':3, 'someone':2, 'to':1, 'talk':2, 'worthless':4, \"can't\":2, 'sleep':4, 'hopeless':5, 'angry':5,\n",
    "           'motivation':4, 'empty':4, 'nervous':4, \"don't\":2, 'know':3, 'what':1, 'do':1, 'default':7}"
   ]
  },
  {
   "cell_type": "code",
   "execution_count": 13,
   "id": "9e11e348",
   "metadata": {},
   "outputs": [],
   "source": [
    "def weighted_manhattan_distance(doc1, doc2): # these docs should be lists of words\n",
    "    vocab = []\n",
    "    for word in doc1:\n",
    "        if (word not in vocab):\n",
    "            vocab.append(word)\n",
    "    for word in doc2:\n",
    "        if (word not in vocab):\n",
    "            vocab.append(word)\n",
    "    # print(vocab)\n",
    "    vec1 = []\n",
    "    vec2 = []\n",
    "    for word in vocab:\n",
    "        vec1.append(doc1.count(word))\n",
    "        vec2.append(doc2.count(word))\n",
    "    # print(vec1)\n",
    "    # print(vec2)\n",
    "    distance = 0\n",
    "    for i, word in enumerate(vocab):\n",
    "        wt = 1\n",
    "        if word in weights:\n",
    "            wt = weights[word]\n",
    "        distance += abs(vec1[i] - vec2[i]) * wt\n",
    "    return distance"
   ]
  },
  {
   "cell_type": "code",
   "execution_count": 14,
   "id": "8121967c",
   "metadata": {},
   "outputs": [
    {
     "name": "stdout",
     "output_type": "stream",
     "text": [
      "Hello, how can I help you?\n",
      "I'm fine. How are you?\n",
      "I'm fine. How are you?\n",
      "I'm sorry to hear that. What's bothering you?\n",
      "Anger can be intense. Do you want to talk about what's making you angry?\n",
      "Anger can be intense. Do you want to talk about what's making you angry?\n",
      "Anger can be intense. Do you want to talk about what's making you angry?\n",
      "bye!\n"
     ]
    }
   ],
   "source": [
    "print(\"Hello, how can I help you?\")\n",
    "while True:\n",
    "    query = input(\"Enter your question: \").lower()\n",
    "    query = query.split()\n",
    "    if(query[0] == 'bye'):\n",
    "        print('bye!')\n",
    "        break\n",
    "    \n",
    "    closest_key = \"default\"\n",
    "    closest_dist= 10 # set this value accordingly\n",
    "\n",
    "    for key in knowledge:\n",
    "        dist = weighted_manhattan_distance(query, key.split())\n",
    "        if(dist < closest_dist):\n",
    "            closest_dist = dist\n",
    "            closest_key = key\n",
    "\n",
    "    print(knowledge[closest_key])   "
   ]
  }
 ],
 "metadata": {
  "kernelspec": {
   "display_name": "Python 3",
   "language": "python",
   "name": "python3"
  },
  "language_info": {
   "codemirror_mode": {
    "name": "ipython",
    "version": 3
   },
   "file_extension": ".py",
   "mimetype": "text/x-python",
   "name": "python",
   "nbconvert_exporter": "python",
   "pygments_lexer": "ipython3",
   "version": "3.13.2"
  }
 },
 "nbformat": 4,
 "nbformat_minor": 5
}
