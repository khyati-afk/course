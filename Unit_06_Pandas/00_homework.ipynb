{
 "cells": [
  {
   "cell_type": "markdown",
   "id": "9bce2589",
   "metadata": {},
   "source": [
    "#### import the given csv file `(pokedex.csv)` as a DataFrame and do the following operations:"
   ]
  },
  {
   "cell_type": "markdown",
   "id": "11a49089",
   "metadata": {},
   "source": [
    "1. Remove the last two columns [`Abil1`, `Abil2`]"
   ]
  },
  {
   "cell_type": "code",
   "execution_count": null,
   "id": "375ebe27",
   "metadata": {},
   "outputs": [],
   "source": []
  },
  {
   "cell_type": "markdown",
   "id": "51e7c555",
   "metadata": {},
   "source": [
    "2. Wherever the entry for `Type2` column in `\"...\"`, set it to the same value as that of `Type1` in that row\n",
    "\n",
    "Example:\n",
    "```\n",
    "001,\"BULBASAUR\",45,49,49,65,65,45,318,GRASS,...\n",
    "```\n",
    "should become\n",
    "```\n",
    "001,\"BULBASAUR\",45,49,49,65,65,45,318,GRASS,GRASS\n",
    "```"
   ]
  },
  {
   "cell_type": "code",
   "execution_count": null,
   "id": "3c6797e4",
   "metadata": {},
   "outputs": [],
   "source": []
  },
  {
   "cell_type": "markdown",
   "id": "7c5cc429",
   "metadata": {},
   "source": [
    "3. Rename the following columns:\n",
    "- PA as ph_Atk\n",
    "- PD as ph_Def\n",
    "- SA as sp_Atk\n",
    "- SD as sp_Def\n",
    "- SP as speed\n",
    "- BST as total_Stats"
   ]
  },
  {
   "cell_type": "code",
   "execution_count": null,
   "id": "3f8664fc",
   "metadata": {},
   "outputs": [],
   "source": []
  },
  {
   "cell_type": "markdown",
   "id": "4ae03561",
   "metadata": {},
   "source": [
    "4. Show the top pokemon in each stat (HP, pA, pD, sA, sD, sp). Store them in a single dataFrame in the following format:\n",
    "\n",
    "```code\n",
    "stat    topPokemon\n",
    "HP      name1\n",
    "PA      name2\n",
    "...\n",
    "SP      name6\n",
    "```"
   ]
  },
  {
   "cell_type": "code",
   "execution_count": null,
   "id": "91430346",
   "metadata": {},
   "outputs": [],
   "source": []
  }
 ],
 "metadata": {
  "kernelspec": {
   "display_name": "Python 3",
   "language": "python",
   "name": "python3"
  },
  "language_info": {
   "codemirror_mode": {
    "name": "ipython",
    "version": 3
   },
   "file_extension": ".py",
   "mimetype": "text/x-python",
   "name": "python",
   "nbconvert_exporter": "python",
   "pygments_lexer": "ipython3",
   "version": "3.13.2"
  }
 },
 "nbformat": 4,
 "nbformat_minor": 5
}
